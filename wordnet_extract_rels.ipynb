{
 "cells": [
  {
   "cell_type": "code",
   "execution_count": 42,
   "metadata": {
    "scrolled": true
   },
   "outputs": [
    {
     "name": "stderr",
     "output_type": "stream",
     "text": [
      "b'Skipping line 91: expected 1 fields, saw 2\\nSkipping line 111: expected 1 fields, saw 2\\nSkipping line 124: expected 1 fields, saw 2\\nSkipping line 201: expected 1 fields, saw 2\\nSkipping line 217: expected 1 fields, saw 2\\nSkipping line 238: expected 1 fields, saw 3\\nSkipping line 270: expected 1 fields, saw 3\\nSkipping line 289: expected 1 fields, saw 2\\nSkipping line 368: expected 1 fields, saw 2\\nSkipping line 370: expected 1 fields, saw 2\\nSkipping line 384: expected 1 fields, saw 2\\nSkipping line 404: expected 1 fields, saw 2\\nSkipping line 406: expected 1 fields, saw 3\\nSkipping line 423: expected 1 fields, saw 2\\nSkipping line 443: expected 1 fields, saw 3\\nSkipping line 451: expected 1 fields, saw 2\\nSkipping line 467: expected 1 fields, saw 2\\nSkipping line 522: expected 1 fields, saw 2\\nSkipping line 550: expected 1 fields, saw 2\\nSkipping line 620: expected 1 fields, saw 2\\nSkipping line 624: expected 1 fields, saw 2\\nSkipping line 808: expected 1 fields, saw 2\\nSkipping line 827: expected 1 fields, saw 2\\nSkipping line 966: expected 1 fields, saw 2\\nSkipping line 1043: expected 1 fields, saw 2\\nSkipping line 1050: expected 1 fields, saw 2\\nSkipping line 1054: expected 1 fields, saw 2\\nSkipping line 1088: expected 1 fields, saw 2\\nSkipping line 1097: expected 1 fields, saw 2\\nSkipping line 1109: expected 1 fields, saw 2\\nSkipping line 1113: expected 1 fields, saw 2\\nSkipping line 1115: expected 1 fields, saw 2\\nSkipping line 1121: expected 1 fields, saw 2\\nSkipping line 1122: expected 1 fields, saw 2\\nSkipping line 1162: expected 1 fields, saw 2\\nSkipping line 1169: expected 1 fields, saw 2\\nSkipping line 1192: expected 1 fields, saw 2\\nSkipping line 1220: expected 1 fields, saw 2\\nSkipping line 1237: expected 1 fields, saw 2\\nSkipping line 1244: expected 1 fields, saw 2\\nSkipping line 1309: expected 1 fields, saw 2\\nSkipping line 1320: expected 1 fields, saw 2\\nSkipping line 1333: expected 1 fields, saw 2\\nSkipping line 1396: expected 1 fields, saw 2\\nSkipping line 1403: expected 1 fields, saw 2\\nSkipping line 1408: expected 1 fields, saw 2\\nSkipping line 1430: expected 1 fields, saw 2\\nSkipping line 1446: expected 1 fields, saw 3\\nSkipping line 1491: expected 1 fields, saw 2\\nSkipping line 1529: expected 1 fields, saw 2\\nSkipping line 1549: expected 1 fields, saw 2\\nSkipping line 1560: expected 1 fields, saw 2\\nSkipping line 1570: expected 1 fields, saw 2\\nSkipping line 1586: expected 1 fields, saw 2\\nSkipping line 1590: expected 1 fields, saw 2\\nSkipping line 1601: expected 1 fields, saw 2\\nSkipping line 1611: expected 1 fields, saw 2\\nSkipping line 1619: expected 1 fields, saw 2\\nSkipping line 1647: expected 1 fields, saw 2\\nSkipping line 1693: expected 1 fields, saw 2\\nSkipping line 1706: expected 1 fields, saw 2\\nSkipping line 1708: expected 1 fields, saw 2\\nSkipping line 1732: expected 1 fields, saw 3\\nSkipping line 1748: expected 1 fields, saw 2\\nSkipping line 1776: expected 1 fields, saw 2\\nSkipping line 1811: expected 1 fields, saw 2\\nSkipping line 1985: expected 1 fields, saw 2\\nSkipping line 2012: expected 1 fields, saw 2\\nSkipping line 2072: expected 1 fields, saw 2\\nSkipping line 2113: expected 1 fields, saw 2\\nSkipping line 2119: expected 1 fields, saw 3\\nSkipping line 2135: expected 1 fields, saw 3\\nSkipping line 2136: expected 1 fields, saw 4\\nSkipping line 2139: expected 1 fields, saw 3\\nSkipping line 2168: expected 1 fields, saw 2\\nSkipping line 2193: expected 1 fields, saw 2\\nSkipping line 2268: expected 1 fields, saw 2\\nSkipping line 2283: expected 1 fields, saw 2\\nSkipping line 2321: expected 1 fields, saw 2\\nSkipping line 2330: expected 1 fields, saw 2\\nSkipping line 2341: expected 1 fields, saw 2\\nSkipping line 2365: expected 1 fields, saw 2\\nSkipping line 2407: expected 1 fields, saw 2\\nSkipping line 2409: expected 1 fields, saw 2\\nSkipping line 2417: expected 1 fields, saw 3\\nSkipping line 2505: expected 1 fields, saw 2\\nSkipping line 2506: expected 1 fields, saw 2\\nSkipping line 2558: expected 1 fields, saw 3\\nSkipping line 2559: expected 1 fields, saw 2\\nSkipping line 2561: expected 1 fields, saw 2\\nSkipping line 2579: expected 1 fields, saw 4\\nSkipping line 2580: expected 1 fields, saw 2\\nSkipping line 2596: expected 1 fields, saw 2\\nSkipping line 2623: expected 1 fields, saw 3\\nSkipping line 2644: expected 1 fields, saw 2\\nSkipping line 2663: expected 1 fields, saw 2\\nSkipping line 2675: expected 1 fields, saw 3\\nSkipping line 2691: expected 1 fields, saw 2\\nSkipping line 2793: expected 1 fields, saw 2\\nSkipping line 2796: expected 1 fields, saw 2\\nSkipping line 2889: expected 1 fields, saw 2\\nSkipping line 2968: expected 1 fields, saw 2\\nSkipping line 2984: expected 1 fields, saw 2\\nSkipping line 3049: expected 1 fields, saw 2\\nSkipping line 3065: expected 1 fields, saw 2\\nSkipping line 3066: expected 1 fields, saw 2\\nSkipping line 3091: expected 1 fields, saw 2\\nSkipping line 3107: expected 1 fields, saw 2\\nSkipping line 3145: expected 1 fields, saw 2\\nSkipping line 3161: expected 1 fields, saw 2\\nSkipping line 3164: expected 1 fields, saw 2\\nSkipping line 3198: expected 1 fields, saw 2\\nSkipping line 3207: expected 1 fields, saw 2\\nSkipping line 3472: expected 1 fields, saw 2\\nSkipping line 3569: expected 1 fields, saw 2\\nSkipping line 3599: expected 1 fields, saw 3\\nSkipping line 4111: expected 1 fields, saw 3\\nSkipping line 4682: expected 1 fields, saw 3\\nSkipping line 4955: expected 1 fields, saw 3\\nSkipping line 5156: expected 1 fields, saw 4\\nSkipping line 5185: expected 1 fields, saw 2\\nSkipping line 5196: expected 1 fields, saw 2\\nSkipping line 5197: expected 1 fields, saw 2\\nSkipping line 5202: expected 1 fields, saw 3\\nSkipping line 5203: expected 1 fields, saw 2\\nSkipping line 5221: expected 1 fields, saw 2\\nSkipping line 5247: expected 1 fields, saw 3\\nSkipping line 5248: expected 1 fields, saw 2\\nSkipping line 5263: expected 1 fields, saw 2\\nSkipping line 5281: expected 1 fields, saw 3\\nSkipping line 5288: expected 1 fields, saw 3\\nSkipping line 5291: expected 1 fields, saw 2\\nSkipping line 5293: expected 1 fields, saw 3\\nSkipping line 5309: expected 1 fields, saw 2\\nSkipping line 5326: expected 1 fields, saw 2\\nSkipping line 5330: expected 1 fields, saw 2\\nSkipping line 5342: expected 1 fields, saw 2\\nSkipping line 5343: expected 1 fields, saw 3\\nSkipping line 5345: expected 1 fields, saw 3\\nSkipping line 5367: expected 1 fields, saw 3\\nSkipping line 5372: expected 1 fields, saw 2\\nSkipping line 5384: expected 1 fields, saw 3\\nSkipping line 5389: expected 1 fields, saw 2\\nSkipping line 5522: expected 1 fields, saw 2\\nSkipping line 5531: expected 1 fields, saw 2\\nSkipping line 5532: expected 1 fields, saw 2\\nSkipping line 5558: expected 1 fields, saw 2\\nSkipping line 5564: expected 1 fields, saw 2\\nSkipping line 5655: expected 1 fields, saw 2\\nSkipping line 5747: expected 1 fields, saw 2\\nSkipping line 5796: expected 1 fields, saw 2\\nSkipping line 5844: expected 1 fields, saw 2\\nSkipping line 5985: expected 1 fields, saw 2\\nSkipping line 6000: expected 1 fields, saw 2\\nSkipping line 6045: expected 1 fields, saw 2\\nSkipping line 6061: expected 1 fields, saw 2\\nSkipping line 6139: expected 1 fields, saw 4\\nSkipping line 6221: expected 1 fields, saw 2\\nSkipping line 6284: expected 1 fields, saw 2\\nSkipping line 6324: expected 1 fields, saw 2\\nSkipping line 6366: expected 1 fields, saw 2\\nSkipping line 6391: expected 1 fields, saw 2\\nSkipping line 6505: expected 1 fields, saw 2\\nSkipping line 6522: expected 1 fields, saw 2\\nSkipping line 6538: expected 1 fields, saw 2\\nSkipping line 6547: expected 1 fields, saw 2\\nSkipping line 6618: expected 1 fields, saw 2\\nSkipping line 6639: expected 1 fields, saw 2\\nSkipping line 6680: expected 1 fields, saw 2\\nSkipping line 6718: expected 1 fields, saw 2\\nSkipping line 6829: expected 1 fields, saw 2\\nSkipping line 6845: expected 1 fields, saw 2\\nSkipping line 7231: expected 1 fields, saw 2\\nSkipping line 7237: expected 1 fields, saw 3\\nSkipping line 7242: expected 1 fields, saw 2\\nSkipping line 7317: expected 1 fields, saw 2\\nSkipping line 7460: expected 1 fields, saw 2\\nSkipping line 7487: expected 1 fields, saw 2\\nSkipping line 7529: expected 1 fields, saw 2\\nSkipping line 7588: expected 1 fields, saw 2\\nSkipping line 7623: expected 1 fields, saw 2\\nSkipping line 7626: expected 1 fields, saw 2\\nSkipping line 7720: expected 1 fields, saw 3\\nSkipping line 7797: expected 1 fields, saw 2\\nSkipping line 7809: expected 1 fields, saw 2\\nSkipping line 8091: expected 1 fields, saw 2\\nSkipping line 8324: expected 1 fields, saw 2\\nSkipping line 8567: expected 1 fields, saw 2\\nSkipping line 8571: expected 1 fields, saw 2\\nSkipping line 8671: expected 1 fields, saw 2\\nSkipping line 8700: expected 1 fields, saw 2\\nSkipping line 8728: expected 1 fields, saw 2\\nSkipping line 8730: expected 1 fields, saw 2\\nSkipping line 8833: expected 1 fields, saw 2\\nSkipping line 9294: expected 1 fields, saw 2\\nSkipping line 9580: expected 1 fields, saw 2\\nSkipping line 9639: expected 1 fields, saw 2\\nSkipping line 9650: expected 1 fields, saw 2\\nSkipping line 9667: expected 1 fields, saw 2\\nSkipping line 9710: expected 1 fields, saw 2\\nSkipping line 9719: expected 1 fields, saw 3\\nSkipping line 9771: expected 1 fields, saw 5\\nSkipping line 9931: expected 1 fields, saw 2\\nSkipping line 9975: expected 1 fields, saw 2\\nSkipping line 9990: expected 1 fields, saw 2\\nSkipping line 10250: expected 1 fields, saw 3\\nSkipping line 10317: expected 1 fields, saw 2\\nSkipping line 10361: expected 1 fields, saw 2\\nSkipping line 10365: expected 1 fields, saw 2\\nSkipping line 10388: expected 1 fields, saw 2\\nSkipping line 10392: expected 1 fields, saw 2\\nSkipping line 10435: expected 1 fields, saw 4\\nSkipping line 10446: expected 1 fields, saw 4\\nSkipping line 10554: expected 1 fields, saw 2\\nSkipping line 10771: expected 1 fields, saw 3\\nSkipping line 11042: expected 1 fields, saw 2\\nSkipping line 11163: expected 1 fields, saw 2\\nSkipping line 11176: expected 1 fields, saw 2\\nSkipping line 11253: expected 1 fields, saw 2\\nSkipping line 11261: expected 1 fields, saw 2\\nSkipping line 11276: expected 1 fields, saw 2\\nSkipping line 11330: expected 1 fields, saw 2\\nSkipping line 11331: expected 1 fields, saw 2\\nSkipping line 11332: expected 1 fields, saw 2\\nSkipping line 11339: expected 1 fields, saw 2\\nSkipping line 11401: expected 1 fields, saw 2\\nSkipping line 11405: expected 1 fields, saw 2\\nSkipping line 11410: expected 1 fields, saw 2\\nSkipping line 11423: expected 1 fields, saw 2\\nSkipping line 11441: expected 1 fields, saw 2\\nSkipping line 11601: expected 1 fields, saw 2\\nSkipping line 11620: expected 1 fields, saw 2\\nSkipping line 11670: expected 1 fields, saw 2\\nSkipping line 11717: expected 1 fields, saw 2\\nSkipping line 11733: expected 1 fields, saw 2\\nSkipping line 11738: expected 1 fields, saw 2\\nSkipping line 11741: expected 1 fields, saw 2\\nSkipping line 11746: expected 1 fields, saw 2\\nSkipping line 11747: expected 1 fields, saw 2\\nSkipping line 11750: expected 1 fields, saw 2\\nSkipping line 11760: expected 1 fields, saw 2\\nSkipping line 11764: expected 1 fields, saw 2\\nSkipping line 11765: expected 1 fields, saw 2\\nSkipping line 11771: expected 1 fields, saw 2\\nSkipping line 11782: expected 1 fields, saw 2\\nSkipping line 11789: expected 1 fields, saw 2\\nSkipping line 11956: expected 1 fields, saw 2\\nSkipping line 11957: expected 1 fields, saw 2\\nSkipping line 11959: expected 1 fields, saw 3\\nSkipping line 11974: expected 1 fields, saw 2\\nSkipping line 11976: expected 1 fields, saw 2\\nSkipping line 11980: expected 1 fields, saw 2\\nSkipping line 11983: expected 1 fields, saw 2\\nSkipping line 11990: expected 1 fields, saw 2\\nSkipping line 12010: expected 1 fields, saw 2\\nSkipping line 12022: expected 1 fields, saw 2\\nSkipping line 12028: expected 1 fields, saw 2\\nSkipping line 12032: expected 1 fields, saw 2\\nSkipping line 12034: expected 1 fields, saw 2\\nSkipping line 12040: expected 1 fields, saw 2\\nSkipping line 12052: expected 1 fields, saw 2\\nSkipping line 12102: expected 1 fields, saw 2\\nSkipping line 12107: expected 1 fields, saw 2\\nSkipping line 12115: expected 1 fields, saw 2\\nSkipping line 12116: expected 1 fields, saw 2\\nSkipping line 12129: expected 1 fields, saw 2\\nSkipping line 12135: expected 1 fields, saw 2\\nSkipping line 12144: expected 1 fields, saw 2\\nSkipping line 12171: expected 1 fields, saw 2\\nSkipping line 12172: expected 1 fields, saw 2\\nSkipping line 12189: expected 1 fields, saw 3\\nSkipping line 12195: expected 1 fields, saw 3\\nSkipping line 12202: expected 1 fields, saw 2\\nSkipping line 12205: expected 1 fields, saw 2\\nSkipping line 12218: expected 1 fields, saw 2\\nSkipping line 12265: expected 1 fields, saw 2\\nSkipping line 12277: expected 1 fields, saw 2\\nSkipping line 12324: expected 1 fields, saw 2\\nSkipping line 12330: expected 1 fields, saw 2\\nSkipping line 12363: expected 1 fields, saw 2\\nSkipping line 12395: expected 1 fields, saw 2\\nSkipping line 12409: expected 1 fields, saw 2\\nSkipping line 12412: expected 1 fields, saw 2\\nSkipping line 12420: expected 1 fields, saw 2\\nSkipping line 12423: expected 1 fields, saw 2\\nSkipping line 12430: expected 1 fields, saw 2\\nSkipping line 12440: expected 1 fields, saw 2\\nSkipping line 12441: expected 1 fields, saw 2\\nSkipping line 12469: expected 1 fields, saw 2\\nSkipping line 12485: expected 1 fields, saw 2\\nSkipping line 12514: expected 1 fields, saw 2\\nSkipping line 12535: expected 1 fields, saw 2\\nSkipping line 12541: expected 1 fields, saw 2\\nSkipping line 12575: expected 1 fields, saw 2\\nSkipping line 12592: expected 1 fields, saw 2\\nSkipping line 12593: expected 1 fields, saw 2\\nSkipping line 12604: expected 1 fields, saw 2\\nSkipping line 12626: expected 1 fields, saw 2\\nSkipping line 12637: expected 1 fields, saw 2\\nSkipping line 12650: expected 1 fields, saw 2\\nSkipping line 12693: expected 1 fields, saw 2\\nSkipping line 12713: expected 1 fields, saw 2\\nSkipping line 12717: expected 1 fields, saw 2\\nSkipping line 12724: expected 1 fields, saw 2\\nSkipping line 12743: expected 1 fields, saw 2\\nSkipping line 12761: expected 1 fields, saw 2\\nSkipping line 12779: expected 1 fields, saw 2\\nSkipping line 12791: expected 1 fields, saw 2\\nSkipping line 12796: expected 1 fields, saw 2\\nSkipping line 12850: expected 1 fields, saw 2\\nSkipping line 12855: expected 1 fields, saw 2\\nSkipping line 12859: expected 1 fields, saw 2\\nSkipping line 12865: expected 1 fields, saw 2\\nSkipping line 12894: expected 1 fields, saw 2\\nSkipping line 12902: expected 1 fields, saw 2\\nSkipping line 12906: expected 1 fields, saw 2\\nSkipping line 12912: expected 1 fields, saw 2\\nSkipping line 12913: expected 1 fields, saw 2\\nSkipping line 12922: expected 1 fields, saw 2\\nSkipping line 12942: expected 1 fields, saw 3\\nSkipping line 12966: expected 1 fields, saw 2\\nSkipping line 12985: expected 1 fields, saw 2\\nSkipping line 13004: expected 1 fields, saw 2\\nSkipping line 13027: expected 1 fields, saw 2\\nSkipping line 13036: expected 1 fields, saw 2\\nSkipping line 13041: expected 1 fields, saw 2\\nSkipping line 13087: expected 1 fields, saw 2\\nSkipping line 13098: expected 1 fields, saw 2\\nSkipping line 13101: expected 1 fields, saw 2\\nSkipping line 13111: expected 1 fields, saw 2\\nSkipping line 13122: expected 1 fields, saw 2\\nSkipping line 13134: expected 1 fields, saw 3\\nSkipping line 13158: expected 1 fields, saw 3\\nSkipping line 13204: expected 1 fields, saw 2\\nSkipping line 13216: expected 1 fields, saw 2\\nSkipping line 13218: expected 1 fields, saw 2\\nSkipping line 13223: expected 1 fields, saw 2\\nSkipping line 13229: expected 1 fields, saw 2\\nSkipping line 13248: expected 1 fields, saw 2\\nSkipping line 13249: expected 1 fields, saw 2\\nSkipping line 13257: expected 1 fields, saw 2\\nSkipping line 13292: expected 1 fields, saw 2\\nSkipping line 13319: expected 1 fields, saw 2\\nSkipping line 13327: expected 1 fields, saw 3\\nSkipping line 13355: expected 1 fields, saw 2\\nSkipping line 13359: expected 1 fields, saw 2\\nSkipping line 13375: expected 1 fields, saw 2\\nSkipping line 13415: expected 1 fields, saw 2\\nSkipping line 13435: expected 1 fields, saw 2\\nSkipping line 13448: expected 1 fields, saw 3\\nSkipping line 13454: expected 1 fields, saw 2\\nSkipping line 13489: expected 1 fields, saw 2\\nSkipping line 13492: expected 1 fields, saw 2\\nSkipping line 13501: expected 1 fields, saw 2\\nSkipping line 13528: expected 1 fields, saw 2\\nSkipping line 13539: expected 1 fields, saw 2\\nSkipping line 13541: expected 1 fields, saw 2\\nSkipping line 13542: expected 1 fields, saw 2\\nSkipping line 13547: expected 1 fields, saw 2\\nSkipping line 13561: expected 1 fields, saw 2\\nSkipping line 13566: expected 1 fields, saw 2\\nSkipping line 13573: expected 1 fields, saw 2\\nSkipping line 13577: expected 1 fields, saw 2\\nSkipping line 13584: expected 1 fields, saw 2\\nSkipping line 13595: expected 1 fields, saw 2\\nSkipping line 13604: expected 1 fields, saw 2\\nSkipping line 13611: expected 1 fields, saw 2\\nSkipping line 13614: expected 1 fields, saw 2\\nSkipping line 13615: expected 1 fields, saw 2\\nSkipping line 13661: expected 1 fields, saw 2\\nSkipping line 13674: expected 1 fields, saw 2\\nSkipping line 13683: expected 1 fields, saw 3\\nSkipping line 13692: expected 1 fields, saw 3\\nSkipping line 13703: expected 1 fields, saw 2\\nSkipping line 13715: expected 1 fields, saw 2\\nSkipping line 13724: expected 1 fields, saw 2\\nSkipping line 13751: expected 1 fields, saw 2\\nSkipping line 13767: expected 1 fields, saw 2\\nSkipping line 13774: expected 1 fields, saw 2\\nSkipping line 13777: expected 1 fields, saw 2\\nSkipping line 13781: expected 1 fields, saw 2\\nSkipping line 13783: expected 1 fields, saw 2\\nSkipping line 13786: expected 1 fields, saw 2\\nSkipping line 13788: expected 1 fields, saw 2\\nSkipping line 13798: expected 1 fields, saw 2\\nSkipping line 13819: expected 1 fields, saw 2\\nSkipping line 13868: expected 1 fields, saw 3\\nSkipping line 13880: expected 1 fields, saw 3\\nSkipping line 13889: expected 1 fields, saw 2\\nSkipping line 13927: expected 1 fields, saw 2\\nSkipping line 13937: expected 1 fields, saw 2\\nSkipping line 13945: expected 1 fields, saw 2\\nSkipping line 13976: expected 1 fields, saw 2\\nSkipping line 13992: expected 1 fields, saw 2\\nSkipping line 14014: expected 1 fields, saw 2\\nSkipping line 14016: expected 1 fields, saw 2\\nSkipping line 14021: expected 1 fields, saw 2\\nSkipping line 14040: expected 1 fields, saw 2\\nSkipping line 14047: expected 1 fields, saw 2\\nSkipping line 14054: expected 1 fields, saw 2\\nSkipping line 14081: expected 1 fields, saw 3\\nSkipping line 14093: expected 1 fields, saw 2\\nSkipping line 14096: expected 1 fields, saw 2\\nSkipping line 14119: expected 1 fields, saw 2\\nSkipping line 14142: expected 1 fields, saw 2\\nSkipping line 14150: expected 1 fields, saw 2\\nSkipping line 14172: expected 1 fields, saw 2\\nSkipping line 14208: expected 1 fields, saw 2\\nSkipping line 14239: expected 1 fields, saw 2\\nSkipping line 14247: expected 1 fields, saw 2\\nSkipping line 14262: expected 1 fields, saw 3\\nSkipping line 14272: expected 1 fields, saw 3\\nSkipping line 14279: expected 1 fields, saw 2\\nSkipping line 14332: expected 1 fields, saw 2\\nSkipping line 14350: expected 1 fields, saw 2\\nSkipping line 14359: expected 1 fields, saw 2\\nSkipping line 14371: expected 1 fields, saw 2\\nSkipping line 14373: expected 1 fields, saw 2\\nSkipping line 14375: expected 1 fields, saw 2\\nSkipping line 14383: expected 1 fields, saw 2\\nSkipping line 14401: expected 1 fields, saw 2\\nSkipping line 14410: expected 1 fields, saw 2\\nSkipping line 14421: expected 1 fields, saw 2\\nSkipping line 14441: expected 1 fields, saw 2\\nSkipping line 14497: expected 1 fields, saw 3\\nSkipping line 14506: expected 1 fields, saw 2\\nSkipping line 14518: expected 1 fields, saw 2\\nSkipping line 14531: expected 1 fields, saw 2\\nSkipping line 14551: expected 1 fields, saw 2\\nSkipping line 14552: expected 1 fields, saw 2\\nSkipping line 14577: expected 1 fields, saw 2\\nSkipping line 14580: expected 1 fields, saw 2\\nSkipping line 14593: expected 1 fields, saw 2\\nSkipping line 14597: expected 1 fields, saw 2\\nSkipping line 14601: expected 1 fields, saw 2\\nSkipping line 14615: expected 1 fields, saw 2\\nSkipping line 14621: expected 1 fields, saw 2\\nSkipping line 14627: expected 1 fields, saw 2\\nSkipping line 14642: expected 1 fields, saw 2\\nSkipping line 14651: expected 1 fields, saw 2\\nSkipping line 14684: expected 1 fields, saw 2\\nSkipping line 14685: expected 1 fields, saw 2\\nSkipping line 14689: expected 1 fields, saw 2\\nSkipping line 14706: expected 1 fields, saw 2\\nSkipping line 14707: expected 1 fields, saw 2\\nSkipping line 14713: expected 1 fields, saw 2\\nSkipping line 14719: expected 1 fields, saw 2\\nSkipping line 14728: expected 1 fields, saw 2\\nSkipping line 14767: expected 1 fields, saw 2\\nSkipping line 14771: expected 1 fields, saw 2\\nSkipping line 14780: expected 1 fields, saw 2\\nSkipping line 14781: expected 1 fields, saw 2\\nSkipping line 14808: expected 1 fields, saw 2\\nSkipping line 14822: expected 1 fields, saw 2\\nSkipping line 14824: expected 1 fields, saw 2\\nSkipping line 14839: expected 1 fields, saw 2\\nSkipping line 14847: expected 1 fields, saw 2\\nSkipping line 14856: expected 1 fields, saw 2\\nSkipping line 14873: expected 1 fields, saw 2\\nSkipping line 14889: expected 1 fields, saw 2\\nSkipping line 14890: expected 1 fields, saw 2\\nSkipping line 14892: expected 1 fields, saw 2\\nSkipping line 14918: expected 1 fields, saw 2\\nSkipping line 14934: expected 1 fields, saw 2\\nSkipping line 14958: expected 1 fields, saw 2\\nSkipping line 14968: expected 1 fields, saw 2\\nSkipping line 14982: expected 1 fields, saw 2\\nSkipping line 14988: expected 1 fields, saw 2\\nSkipping line 14989: expected 1 fields, saw 2\\nSkipping line 14997: expected 1 fields, saw 2\\nSkipping line 15001: expected 1 fields, saw 2\\nSkipping line 15009: expected 1 fields, saw 2\\nSkipping line 15019: expected 1 fields, saw 2\\nSkipping line 15058: expected 1 fields, saw 2\\nSkipping line 15059: expected 1 fields, saw 2\\nSkipping line 15060: expected 1 fields, saw 2\\nSkipping line 15065: expected 1 fields, saw 2\\nSkipping line 15071: expected 1 fields, saw 3\\nSkipping line 15113: expected 1 fields, saw 2\\nSkipping line 15154: expected 1 fields, saw 2\\nSkipping line 15158: expected 1 fields, saw 3\\nSkipping line 15177: expected 1 fields, saw 2\\nSkipping line 15181: expected 1 fields, saw 2\\nSkipping line 15187: expected 1 fields, saw 2\\nSkipping line 15188: expected 1 fields, saw 2\\nSkipping line 15203: expected 1 fields, saw 3\\nSkipping line 15207: expected 1 fields, saw 2\\nSkipping line 15311: expected 1 fields, saw 3\\nSkipping line 15323: expected 1 fields, saw 2\\nSkipping line 15326: expected 1 fields, saw 2\\nSkipping line 15328: expected 1 fields, saw 2\\nSkipping line 15329: expected 1 fields, saw 2\\nSkipping line 15339: expected 1 fields, saw 2\\nSkipping line 15345: expected 1 fields, saw 2\\nSkipping line 15350: expected 1 fields, saw 2\\nSkipping line 15357: expected 1 fields, saw 3\\nSkipping line 15358: expected 1 fields, saw 2\\nSkipping line 15359: expected 1 fields, saw 2\\nSkipping line 15484: expected 1 fields, saw 2\\nSkipping line 15501: expected 1 fields, saw 2\\nSkipping line 15723: expected 1 fields, saw 2\\nSkipping line 15749: expected 1 fields, saw 3\\nSkipping line 15885: expected 1 fields, saw 2\\nSkipping line 15900: expected 1 fields, saw 2\\nSkipping line 16064: expected 1 fields, saw 2\\nSkipping line 16292: expected 1 fields, saw 2\\nSkipping line 16452: expected 1 fields, saw 3\\nSkipping line 16485: expected 1 fields, saw 2\\nSkipping line 16504: expected 1 fields, saw 2\\nSkipping line 16543: expected 1 fields, saw 4\\nSkipping line 16563: expected 1 fields, saw 2\\nSkipping line 16684: expected 1 fields, saw 2\\nSkipping line 16787: expected 1 fields, saw 2\\nSkipping line 16792: expected 1 fields, saw 2\\nSkipping line 16794: expected 1 fields, saw 2\\nSkipping line 16807: expected 1 fields, saw 2\\nSkipping line 16808: expected 1 fields, saw 2\\nSkipping line 16948: expected 1 fields, saw 2\\nSkipping line 16949: expected 1 fields, saw 3\\nSkipping line 16959: expected 1 fields, saw 2\\nSkipping line 17032: expected 1 fields, saw 2\\nSkipping line 17044: expected 1 fields, saw 2\\nSkipping line 17127: expected 1 fields, saw 2\\nSkipping line 17142: expected 1 fields, saw 2\\nSkipping line 17166: expected 1 fields, saw 2\\nSkipping line 17167: expected 1 fields, saw 2\\nSkipping line 17174: expected 1 fields, saw 2\\nSkipping line 17293: expected 1 fields, saw 2\\nSkipping line 17318: expected 1 fields, saw 2\\nSkipping line 17329: expected 1 fields, saw 2\\nSkipping line 17358: expected 1 fields, saw 2\\nSkipping line 17359: expected 1 fields, saw 2\\nSkipping line 17410: expected 1 fields, saw 2\\nSkipping line 17414: expected 1 fields, saw 2\\nSkipping line 17462: expected 1 fields, saw 2\\nSkipping line 17491: expected 1 fields, saw 2\\nSkipping line 17523: expected 1 fields, saw 2\\nSkipping line 17531: expected 1 fields, saw 2\\nSkipping line 17572: expected 1 fields, saw 2\\nSkipping line 17579: expected 1 fields, saw 2\\nSkipping line 17642: expected 1 fields, saw 2\\nSkipping line 17666: expected 1 fields, saw 3\\nSkipping line 17708: expected 1 fields, saw 3\\nSkipping line 17719: expected 1 fields, saw 2\\nSkipping line 17722: expected 1 fields, saw 2\\nSkipping line 17736: expected 1 fields, saw 2\\nSkipping line 17737: expected 1 fields, saw 3\\nSkipping line 17748: expected 1 fields, saw 2\\nSkipping line 17761: expected 1 fields, saw 3\\nSkipping line 17763: expected 1 fields, saw 3\\nSkipping line 17765: expected 1 fields, saw 2\\nSkipping line 17791: expected 1 fields, saw 2\\nSkipping line 17795: expected 1 fields, saw 2\\nSkipping line 17815: expected 1 fields, saw 2\\nSkipping line 17822: expected 1 fields, saw 3\\nSkipping line 17823: expected 1 fields, saw 2\\nSkipping line 17826: expected 1 fields, saw 3\\nSkipping line 17839: expected 1 fields, saw 3\\nSkipping line 17869: expected 1 fields, saw 2\\nSkipping line 17875: expected 1 fields, saw 2\\nSkipping line 17886: expected 1 fields, saw 2\\nSkipping line 17898: expected 1 fields, saw 2\\nSkipping line 17929: expected 1 fields, saw 2\\nSkipping line 17934: expected 1 fields, saw 2\\nSkipping line 17942: expected 1 fields, saw 3\\nSkipping line 17968: expected 1 fields, saw 2\\nSkipping line 17978: expected 1 fields, saw 2\\nSkipping line 18001: expected 1 fields, saw 3\\nSkipping line 18031: expected 1 fields, saw 2\\nSkipping line 18052: expected 1 fields, saw 2\\nSkipping line 18069: expected 1 fields, saw 2\\nSkipping line 18073: expected 1 fields, saw 3\\nSkipping line 18075: expected 1 fields, saw 2\\nSkipping line 18082: expected 1 fields, saw 2\\nSkipping line 18160: expected 1 fields, saw 2\\nSkipping line 18169: expected 1 fields, saw 3\\nSkipping line 18180: expected 1 fields, saw 3\\nSkipping line 18181: expected 1 fields, saw 2\\nSkipping line 18209: expected 1 fields, saw 2\\nSkipping line 18219: expected 1 fields, saw 2\\nSkipping line 18226: expected 1 fields, saw 3\\nSkipping line 18238: expected 1 fields, saw 2\\nSkipping line 18239: expected 1 fields, saw 2\\nSkipping line 18259: expected 1 fields, saw 2\\nSkipping line 18309: expected 1 fields, saw 2\\nSkipping line 18316: expected 1 fields, saw 3\\nSkipping line 18325: expected 1 fields, saw 2\\nSkipping line 18411: expected 1 fields, saw 2\\nSkipping line 18454: expected 1 fields, saw 2\\nSkipping line 18459: expected 1 fields, saw 2\\nSkipping line 18535: expected 1 fields, saw 2\\nSkipping line 18545: expected 1 fields, saw 2\\nSkipping line 18546: expected 1 fields, saw 3\\nSkipping line 18547: expected 1 fields, saw 2\\nSkipping line 18592: expected 1 fields, saw 2\\nSkipping line 18618: expected 1 fields, saw 2\\nSkipping line 18625: expected 1 fields, saw 2\\nSkipping line 18725: expected 1 fields, saw 2\\nSkipping line 18775: expected 1 fields, saw 2\\nSkipping line 18819: expected 1 fields, saw 2\\nSkipping line 18825: expected 1 fields, saw 2\\nSkipping line 18868: expected 1 fields, saw 2\\nSkipping line 18925: expected 1 fields, saw 2\\nSkipping line 18968: expected 1 fields, saw 2\\nSkipping line 19086: expected 1 fields, saw 2\\nSkipping line 19095: expected 1 fields, saw 3\\nSkipping line 19142: expected 1 fields, saw 2\\nSkipping line 19263: expected 1 fields, saw 5\\nSkipping line 19265: expected 1 fields, saw 4\\nSkipping line 19268: expected 1 fields, saw 2\\nSkipping line 19276: expected 1 fields, saw 2\\nSkipping line 19278: expected 1 fields, saw 2\\nSkipping line 19331: expected 1 fields, saw 2\\nSkipping line 19348: expected 1 fields, saw 4\\nSkipping line 19349: expected 1 fields, saw 4\\nSkipping line 19369: expected 1 fields, saw 2\\nSkipping line 19445: expected 1 fields, saw 2\\nSkipping line 20192: expected 1 fields, saw 2\\nSkipping line 20260: expected 1 fields, saw 2\\nSkipping line 20325: expected 1 fields, saw 3\\nSkipping line 20341: expected 1 fields, saw 2\\nSkipping line 20342: expected 1 fields, saw 2\\nSkipping line 20347: expected 1 fields, saw 2\\nSkipping line 20348: expected 1 fields, saw 2\\nSkipping line 20349: expected 1 fields, saw 2\\nSkipping line 20350: expected 1 fields, saw 2\\nSkipping line 20351: expected 1 fields, saw 2\\nSkipping line 20352: expected 1 fields, saw 2\\nSkipping line 20353: expected 1 fields, saw 2\\nSkipping line 20354: expected 1 fields, saw 2\\nSkipping line 20375: expected 1 fields, saw 2\\nSkipping line 20376: expected 1 fields, saw 2\\nSkipping line 20377: expected 1 fields, saw 2\\nSkipping line 20378: expected 1 fields, saw 2\\nSkipping line 20399: expected 1 fields, saw 2\\nSkipping line 20400: expected 1 fields, saw 2\\nSkipping line 20403: expected 1 fields, saw 2\\nSkipping line 20404: expected 1 fields, saw 2\\nSkipping line 20425: expected 1 fields, saw 2\\nSkipping line 20426: expected 1 fields, saw 2\\nSkipping line 20431: expected 1 fields, saw 3\\nSkipping line 20436: expected 1 fields, saw 2\\nSkipping line 20437: expected 1 fields, saw 2\\nSkipping line 20438: expected 1 fields, saw 2\\nSkipping line 20439: expected 1 fields, saw 2\\nSkipping line 20442: expected 1 fields, saw 2\\nSkipping line 20443: expected 1 fields, saw 2\\nSkipping line 20444: expected 1 fields, saw 2\\nSkipping line 20445: expected 1 fields, saw 2\\nSkipping line 20446: expected 1 fields, saw 2\\nSkipping line 20447: expected 1 fields, saw 2\\nSkipping line 20463: expected 1 fields, saw 2\\nSkipping line 20464: expected 1 fields, saw 2\\nSkipping line 20465: expected 1 fields, saw 2\\nSkipping line 20466: expected 1 fields, saw 2\\nSkipping line 20469: expected 1 fields, saw 2\\nSkipping line 20470: expected 1 fields, saw 2\\nSkipping line 20471: expected 1 fields, saw 2\\nSkipping line 20472: expected 1 fields, saw 2\\nSkipping line 20491: expected 1 fields, saw 2\\nSkipping line 20492: expected 1 fields, saw 2\\nSkipping line 20493: expected 1 fields, saw 2\\nSkipping line 20494: expected 1 fields, saw 2\\nSkipping line 20496: expected 1 fields, saw 2\\nSkipping line 20498: expected 1 fields, saw 2\\nSkipping line 20500: expected 1 fields, saw 2\\nSkipping line 20501: expected 1 fields, saw 2\\nSkipping line 20502: expected 1 fields, saw 2\\nSkipping line 20504: expected 1 fields, saw 2\\nSkipping line 20526: expected 1 fields, saw 2\\nSkipping line 20528: expected 1 fields, saw 2\\nSkipping line 20530: expected 1 fields, saw 2\\nSkipping line 20531: expected 1 fields, saw 2\\nSkipping line 20532: expected 1 fields, saw 2\\nSkipping line 20533: expected 1 fields, saw 2\\nSkipping line 20534: expected 1 fields, saw 2\\nSkipping line 20535: expected 1 fields, saw 2\\nSkipping line 20536: expected 1 fields, saw 2\\nSkipping line 20537: expected 1 fields, saw 2\\nSkipping line 20538: expected 1 fields, saw 2\\nSkipping line 20539: expected 1 fields, saw 2\\nSkipping line 20554: expected 1 fields, saw 2\\nSkipping line 20555: expected 1 fields, saw 2\\nSkipping line 20581: expected 1 fields, saw 2\\nSkipping line 20583: expected 1 fields, saw 2\\nSkipping line 20585: expected 1 fields, saw 2\\nSkipping line 20586: expected 1 fields, saw 2\\nSkipping line 20587: expected 1 fields, saw 2\\nSkipping line 20588: expected 1 fields, saw 2\\nSkipping line 20589: expected 1 fields, saw 2\\nSkipping line 20590: expected 1 fields, saw 2\\nSkipping line 20591: expected 1 fields, saw 2\\nSkipping line 20592: expected 1 fields, saw 2\\nSkipping line 20606: expected 1 fields, saw 2\\nSkipping line 20607: expected 1 fields, saw 2\\nSkipping line 20608: expected 1 fields, saw 2\\nSkipping line 20609: expected 1 fields, saw 2\\nSkipping line 20628: expected 1 fields, saw 2\\nSkipping line 20629: expected 1 fields, saw 2\\nSkipping line 20630: expected 1 fields, saw 2\\nSkipping line 20631: expected 1 fields, saw 2\\nSkipping line 20632: expected 1 fields, saw 2\\nSkipping line 20633: expected 1 fields, saw 2\\nSkipping line 20660: expected 1 fields, saw 2\\nSkipping line 20661: expected 1 fields, saw 2\\nSkipping line 20662: expected 1 fields, saw 2\\nSkipping line 20663: expected 1 fields, saw 2\\nSkipping line 20664: expected 1 fields, saw 2\\nSkipping line 20665: expected 1 fields, saw 2\\nSkipping line 20666: expected 1 fields, saw 2\\nSkipping line 20667: expected 1 fields, saw 2\\nSkipping line 20668: expected 1 fields, saw 2\\nSkipping line 20669: expected 1 fields, saw 2\\nSkipping line 20670: expected 1 fields, saw 2\\nSkipping line 20671: expected 1 fields, saw 2\\nSkipping line 20682: expected 1 fields, saw 2\\nSkipping line 20683: expected 1 fields, saw 2\\nSkipping line 20684: expected 1 fields, saw 2\\nSkipping line 20685: expected 1 fields, saw 2\\nSkipping line 20688: expected 1 fields, saw 2\\nSkipping line 20689: expected 1 fields, saw 2\\nSkipping line 20690: expected 1 fields, saw 2\\nSkipping line 20691: expected 1 fields, saw 2\\nSkipping line 20710: expected 1 fields, saw 2\\nSkipping line 20711: expected 1 fields, saw 2\\nSkipping line 20714: expected 1 fields, saw 2\\nSkipping line 20715: expected 1 fields, saw 2\\nSkipping line 20718: expected 1 fields, saw 2\\nSkipping line 20719: expected 1 fields, saw 2\\nSkipping line 20763: expected 1 fields, saw 3\\nSkipping line 20768: expected 1 fields, saw 3\\nSkipping line 20785: expected 1 fields, saw 3\\nSkipping line 20796: expected 1 fields, saw 2\\nSkipping line 20799: expected 1 fields, saw 2\\nSkipping line 20804: expected 1 fields, saw 3\\nSkipping line 20807: expected 1 fields, saw 3\\nSkipping line 20920: expected 1 fields, saw 2\\nSkipping line 20994: expected 1 fields, saw 4\\nSkipping line 21105: expected 1 fields, saw 3\\nSkipping line 21290: expected 1 fields, saw 2\\nSkipping line 21416: expected 1 fields, saw 3\\nSkipping line 21601: expected 1 fields, saw 2\\nSkipping line 21771: expected 1 fields, saw 3\\nSkipping line 21780: expected 1 fields, saw 2\\nSkipping line 21795: expected 1 fields, saw 2\\nSkipping line 21800: expected 1 fields, saw 3\\nSkipping line 21804: expected 1 fields, saw 2\\nSkipping line 21807: expected 1 fields, saw 2\\nSkipping line 21842: expected 1 fields, saw 2\\nSkipping line 21856: expected 1 fields, saw 2\\nSkipping line 21863: expected 1 fields, saw 2\\nSkipping line 21903: expected 1 fields, saw 2\\nSkipping line 21917: expected 1 fields, saw 3\\nSkipping line 21927: expected 1 fields, saw 3\\nSkipping line 21932: expected 1 fields, saw 2\\nSkipping line 21963: expected 1 fields, saw 3\\nSkipping line 21968: expected 1 fields, saw 2\\nSkipping line 21990: expected 1 fields, saw 3\\nSkipping line 22006: expected 1 fields, saw 2\\nSkipping line 22020: expected 1 fields, saw 3\\nSkipping line 22028: expected 1 fields, saw 2\\nSkipping line 22037: expected 1 fields, saw 2\\nSkipping line 22038: expected 1 fields, saw 2\\nSkipping line 22070: expected 1 fields, saw 2\\nSkipping line 22092: expected 1 fields, saw 2\\nSkipping line 22095: expected 1 fields, saw 2\\nSkipping line 22142: expected 1 fields, saw 2\\nSkipping line 22150: expected 1 fields, saw 3\\nSkipping line 22153: expected 1 fields, saw 3\\nSkipping line 22173: expected 1 fields, saw 2\\nSkipping line 22196: expected 1 fields, saw 3\\nSkipping line 22214: expected 1 fields, saw 2\\nSkipping line 22321: expected 1 fields, saw 2\\nSkipping line 22322: expected 1 fields, saw 2\\nSkipping line 22349: expected 1 fields, saw 2\\nSkipping line 22350: expected 1 fields, saw 2\\nSkipping line 22382: expected 1 fields, saw 2\\nSkipping line 22383: expected 1 fields, saw 2\\nSkipping line 22450: expected 1 fields, saw 2\\nSkipping line 22543: expected 1 fields, saw 2\\nSkipping line 22573: expected 1 fields, saw 2\\nSkipping line 22671: expected 1 fields, saw 2\\nSkipping line 22694: expected 1 fields, saw 2\\nSkipping line 22755: expected 1 fields, saw 2\\nSkipping line 22756: expected 1 fields, saw 2\\nSkipping line 22777: expected 1 fields, saw 2\\nSkipping line 22780: expected 1 fields, saw 2\\nSkipping line 22781: expected 1 fields, saw 2\\nSkipping line 22794: expected 1 fields, saw 2\\nSkipping line 22795: expected 1 fields, saw 2\\nSkipping line 22807: expected 1 fields, saw 2\\nSkipping line 22826: expected 1 fields, saw 2\\nSkipping line 22847: expected 1 fields, saw 2\\nSkipping line 22850: expected 1 fields, saw 2\\nSkipping line 22901: expected 1 fields, saw 2\\nSkipping line 22903: expected 1 fields, saw 2\\nSkipping line 22948: expected 1 fields, saw 2\\nSkipping line 22953: expected 1 fields, saw 2\\nSkipping line 22973: expected 1 fields, saw 3\\nSkipping line 22974: expected 1 fields, saw 2\\nSkipping line 22979: expected 1 fields, saw 2\\nSkipping line 23035: expected 1 fields, saw 2\\nSkipping line 23041: expected 1 fields, saw 2\\nSkipping line 23045: expected 1 fields, saw 2\\nSkipping line 23053: expected 1 fields, saw 2\\nSkipping line 23059: expected 1 fields, saw 2\\nSkipping line 23062: expected 1 fields, saw 2\\nSkipping line 23063: expected 1 fields, saw 2\\nSkipping line 23064: expected 1 fields, saw 2\\nSkipping line 23073: expected 1 fields, saw 2\\nSkipping line 23076: expected 1 fields, saw 2\\nSkipping line 23080: expected 1 fields, saw 2\\nSkipping line 23082: expected 1 fields, saw 2\\nSkipping line 23083: expected 1 fields, saw 2\\nSkipping line 23089: expected 1 fields, saw 2\\nSkipping line 23095: expected 1 fields, saw 2\\nSkipping line 23097: expected 1 fields, saw 2\\nSkipping line 23143: expected 1 fields, saw 2\\nSkipping line 23281: expected 1 fields, saw 2\\nSkipping line 24310: expected 1 fields, saw 3\\nSkipping line 24320: expected 1 fields, saw 3\\nSkipping line 24351: expected 1 fields, saw 3\\nSkipping line 24364: expected 1 fields, saw 3\\nSkipping line 24386: expected 1 fields, saw 2\\nSkipping line 24394: expected 1 fields, saw 3\\nSkipping line 24470: expected 1 fields, saw 3\\nSkipping line 24514: expected 1 fields, saw 3\\nSkipping line 24924: expected 1 fields, saw 2\\nSkipping line 24925: expected 1 fields, saw 2\\nSkipping line 25008: expected 1 fields, saw 2\\nSkipping line 25069: expected 1 fields, saw 2\\nSkipping line 25072: expected 1 fields, saw 2\\nSkipping line 25073: expected 1 fields, saw 2\\nSkipping line 25075: expected 1 fields, saw 2\\nSkipping line 25080: expected 1 fields, saw 2\\nSkipping line 25084: expected 1 fields, saw 2\\nSkipping line 25085: expected 1 fields, saw 2\\nSkipping line 25099: expected 1 fields, saw 2\\nSkipping line 25116: expected 1 fields, saw 3\\nSkipping line 25121: expected 1 fields, saw 2\\nSkipping line 25125: expected 1 fields, saw 2\\nSkipping line 25129: expected 1 fields, saw 2\\nSkipping line 25131: expected 1 fields, saw 2\\nSkipping line 25148: expected 1 fields, saw 2\\nSkipping line 25156: expected 1 fields, saw 2\\nSkipping line 25158: expected 1 fields, saw 2\\nSkipping line 25165: expected 1 fields, saw 2\\nSkipping line 25167: expected 1 fields, saw 2\\nSkipping line 25168: expected 1 fields, saw 2\\nSkipping line 25183: expected 1 fields, saw 2\\nSkipping line 25199: expected 1 fields, saw 2\\nSkipping line 25225: expected 1 fields, saw 2\\nSkipping line 25237: expected 1 fields, saw 2\\nSkipping line 25251: expected 1 fields, saw 2\\nSkipping line 25299: expected 1 fields, saw 2\\nSkipping line 25303: expected 1 fields, saw 2\\nSkipping line 25314: expected 1 fields, saw 3\\nSkipping line 25322: expected 1 fields, saw 3\\nSkipping line 25328: expected 1 fields, saw 2\\nSkipping line 25331: expected 1 fields, saw 2\\nSkipping line 25336: expected 1 fields, saw 2\\nSkipping line 25356: expected 1 fields, saw 2\\nSkipping line 25395: expected 1 fields, saw 2\\nSkipping line 25396: expected 1 fields, saw 2\\nSkipping line 25409: expected 1 fields, saw 2\\nSkipping line 25418: expected 1 fields, saw 2\\nSkipping line 25449: expected 1 fields, saw 2\\nSkipping line 25450: expected 1 fields, saw 2\\nSkipping line 25467: expected 1 fields, saw 2\\nSkipping line 25473: expected 1 fields, saw 3\\nSkipping line 25509: expected 1 fields, saw 2\\nSkipping line 25534: expected 1 fields, saw 2\\nSkipping line 25574: expected 1 fields, saw 2\\nSkipping line 25582: expected 1 fields, saw 2\\nSkipping line 25647: expected 1 fields, saw 2\\nSkipping line 25660: expected 1 fields, saw 2\\nSkipping line 25662: expected 1 fields, saw 2\\nSkipping line 25668: expected 1 fields, saw 2\\nSkipping line 25672: expected 1 fields, saw 2\\nSkipping line 25681: expected 1 fields, saw 2\\nSkipping line 25689: expected 1 fields, saw 2\\nSkipping line 25711: expected 1 fields, saw 2\\nSkipping line 25716: expected 1 fields, saw 2\\nSkipping line 25755: expected 1 fields, saw 2\\nSkipping line 25770: expected 1 fields, saw 2\\nSkipping line 25786: expected 1 fields, saw 2\\nSkipping line 25789: expected 1 fields, saw 3\\nSkipping line 25820: expected 1 fields, saw 2\\nSkipping line 25821: expected 1 fields, saw 2\\nSkipping line 25846: expected 1 fields, saw 2\\nSkipping line 25890: expected 1 fields, saw 2\\nSkipping line 25902: expected 1 fields, saw 2\\nSkipping line 25926: expected 1 fields, saw 2\\nSkipping line 25929: expected 1 fields, saw 2\\nSkipping line 26182: expected 1 fields, saw 3\\nSkipping line 26195: expected 1 fields, saw 2\\nSkipping line 26205: expected 1 fields, saw 2\\nSkipping line 26209: expected 1 fields, saw 2\\nSkipping line 26244: expected 1 fields, saw 2\\nSkipping line 26303: expected 1 fields, saw 3\\nSkipping line 26304: expected 1 fields, saw 3\\nSkipping line 26306: expected 1 fields, saw 2\\nSkipping line 26314: expected 1 fields, saw 2\\nSkipping line 26366: expected 1 fields, saw 2\\nSkipping line 26376: expected 1 fields, saw 2\\nSkipping line 26377: expected 1 fields, saw 2\\nSkipping line 26422: expected 1 fields, saw 2\\nSkipping line 26424: expected 1 fields, saw 2\\nSkipping line 26427: expected 1 fields, saw 2\\nSkipping line 26428: expected 1 fields, saw 2\\nSkipping line 26429: expected 1 fields, saw 2\\nSkipping line 26542: expected 1 fields, saw 2\\nSkipping line 26585: expected 1 fields, saw 2\\nSkipping line 26588: expected 1 fields, saw 2\\nSkipping line 26591: expected 1 fields, saw 4\\nSkipping line 26612: expected 1 fields, saw 6\\nSkipping line 26616: expected 1 fields, saw 3\\nSkipping line 26618: expected 1 fields, saw 3\\nSkipping line 26621: expected 1 fields, saw 2\\nSkipping line 26625: expected 1 fields, saw 3\\nSkipping line 26630: expected 1 fields, saw 2\\nSkipping line 26646: expected 1 fields, saw 2\\nSkipping line 26649: expected 1 fields, saw 5\\nSkipping line 26655: expected 1 fields, saw 3\\nSkipping line 26662: expected 1 fields, saw 2\\nSkipping line 26666: expected 1 fields, saw 3\\nSkipping line 26668: expected 1 fields, saw 6\\nSkipping line 26674: expected 1 fields, saw 2\\nSkipping line 26741: expected 1 fields, saw 2\\nSkipping line 26746: expected 1 fields, saw 2\\nSkipping line 26779: expected 1 fields, saw 2\\nSkipping line 26795: expected 1 fields, saw 3\\nSkipping line 26802: expected 1 fields, saw 3\\nSkipping line 26804: expected 1 fields, saw 2\\nSkipping line 26805: expected 1 fields, saw 2\\nSkipping line 26810: expected 1 fields, saw 2\\nSkipping line 26823: expected 1 fields, saw 2\\nSkipping line 26828: expected 1 fields, saw 2\\nSkipping line 26847: expected 1 fields, saw 2\\nSkipping line 26850: expected 1 fields, saw 3\\nSkipping line 26852: expected 1 fields, saw 4\\nSkipping line 26876: expected 1 fields, saw 2\\nSkipping line 26886: expected 1 fields, saw 2\\nSkipping line 26891: expected 1 fields, saw 4\\nSkipping line 26899: expected 1 fields, saw 4\\nSkipping line 26901: expected 1 fields, saw 2\\nSkipping line 26906: expected 1 fields, saw 2\\nSkipping line 26915: expected 1 fields, saw 2\\nSkipping line 26983: expected 1 fields, saw 3\\nSkipping line 27012: expected 1 fields, saw 2\\nSkipping line 27013: expected 1 fields, saw 3\\nSkipping line 27019: expected 1 fields, saw 2\\nSkipping line 27028: expected 1 fields, saw 3\\nSkipping line 27032: expected 1 fields, saw 2\\nSkipping line 27034: expected 1 fields, saw 2\\nSkipping line 27055: expected 1 fields, saw 2\\nSkipping line 27056: expected 1 fields, saw 2\\nSkipping line 27065: expected 1 fields, saw 3\\nSkipping line 27068: expected 1 fields, saw 3\\nSkipping line 27086: expected 1 fields, saw 2\\nSkipping line 27088: expected 1 fields, saw 6\\nSkipping line 27090: expected 1 fields, saw 2\\nSkipping line 27094: expected 1 fields, saw 3\\nSkipping line 27096: expected 1 fields, saw 2\\nSkipping line 27098: expected 1 fields, saw 6\\nSkipping line 27111: expected 1 fields, saw 6\\nSkipping line 27113: expected 1 fields, saw 5\\nSkipping line 27116: expected 1 fields, saw 2\\nSkipping line 27118: expected 1 fields, saw 2\\nSkipping line 27119: expected 1 fields, saw 4\\nSkipping line 27129: expected 1 fields, saw 2\\nSkipping line 27143: expected 1 fields, saw 2\\nSkipping line 27150: expected 1 fields, saw 2\\nSkipping line 27159: expected 1 fields, saw 2\\nSkipping line 27176: expected 1 fields, saw 3\\nSkipping line 27237: expected 1 fields, saw 3\\nSkipping line 27245: expected 1 fields, saw 3\\nSkipping line 27261: expected 1 fields, saw 2\\nSkipping line 27265: expected 1 fields, saw 3\\nSkipping line 27267: expected 1 fields, saw 4\\nSkipping line 27269: expected 1 fields, saw 2\\nSkipping line 27272: expected 1 fields, saw 2\\nSkipping line 27288: expected 1 fields, saw 5\\nSkipping line 27289: expected 1 fields, saw 2\\nSkipping line 27290: expected 1 fields, saw 2\\nSkipping line 27298: expected 1 fields, saw 3\\nSkipping line 27299: expected 1 fields, saw 2\\nSkipping line 27314: expected 1 fields, saw 2\\nSkipping line 27316: expected 1 fields, saw 2\\nSkipping line 27339: expected 1 fields, saw 3\\nSkipping line 27363: expected 1 fields, saw 2\\nSkipping line 27378: expected 1 fields, saw 2\\nSkipping line 27480: expected 1 fields, saw 2\\nSkipping line 27489: expected 1 fields, saw 2\\nSkipping line 27490: expected 1 fields, saw 2\\nSkipping line 27502: expected 1 fields, saw 4\\nSkipping line 27519: expected 1 fields, saw 2\\nSkipping line 27528: expected 1 fields, saw 4\\nSkipping line 27529: expected 1 fields, saw 2\\nSkipping line 27534: expected 1 fields, saw 2\\nSkipping line 27544: expected 1 fields, saw 3\\nSkipping line 27546: expected 1 fields, saw 4\\nSkipping line 27549: expected 1 fields, saw 2\\nSkipping line 27550: expected 1 fields, saw 3\\nSkipping line 27551: expected 1 fields, saw 2\\nSkipping line 27566: expected 1 fields, saw 2\\nSkipping line 27575: expected 1 fields, saw 2\\nSkipping line 27578: expected 1 fields, saw 3\\nSkipping line 27586: expected 1 fields, saw 2\\nSkipping line 27587: expected 1 fields, saw 2\\nSkipping line 27588: expected 1 fields, saw 5\\nSkipping line 27590: expected 1 fields, saw 2\\nSkipping line 27592: expected 1 fields, saw 2\\nSkipping line 27593: expected 1 fields, saw 2\\nSkipping line 27594: expected 1 fields, saw 2\\nSkipping line 27599: expected 1 fields, saw 3\\nSkipping line 27602: expected 1 fields, saw 2\\nSkipping line 27604: expected 1 fields, saw 2\\nSkipping line 27613: expected 1 fields, saw 4\\nSkipping line 27616: expected 1 fields, saw 2\\nSkipping line 27623: expected 1 fields, saw 2\\nSkipping line 27625: expected 1 fields, saw 2\\nSkipping line 27631: expected 1 fields, saw 3\\nSkipping line 27648: expected 1 fields, saw 2\\nSkipping line 27674: expected 1 fields, saw 3\\nSkipping line 27735: expected 1 fields, saw 2\\nSkipping line 27744: expected 1 fields, saw 2\\nSkipping line 27748: expected 1 fields, saw 3\\nSkipping line 27750: expected 1 fields, saw 2\\nSkipping line 27758: expected 1 fields, saw 3\\nSkipping line 27761: expected 1 fields, saw 2\\nSkipping line 27767: expected 1 fields, saw 5\\nSkipping line 27770: expected 1 fields, saw 2\\nSkipping line 27773: expected 1 fields, saw 2\\nSkipping line 27777: expected 1 fields, saw 2\\nSkipping line 27780: expected 1 fields, saw 3\\nSkipping line 27781: expected 1 fields, saw 2\\nSkipping line 27782: expected 1 fields, saw 2\\nSkipping line 27784: expected 1 fields, saw 4\\nSkipping line 27790: expected 1 fields, saw 2\\nSkipping line 27791: expected 1 fields, saw 3\\nSkipping line 27799: expected 1 fields, saw 4\\nSkipping line 27805: expected 1 fields, saw 2\\nSkipping line 27810: expected 1 fields, saw 2\\nSkipping line 27814: expected 1 fields, saw 3\\nSkipping line 27823: expected 1 fields, saw 2\\nSkipping line 27828: expected 1 fields, saw 5\\nSkipping line 27829: expected 1 fields, saw 7\\nSkipping line 27832: expected 1 fields, saw 2\\nSkipping line 27835: expected 1 fields, saw 2\\nSkipping line 27839: expected 1 fields, saw 2\\nSkipping line 27842: expected 1 fields, saw 2\\nSkipping line 27843: expected 1 fields, saw 2\\nSkipping line 27845: expected 1 fields, saw 2\\nSkipping line 27849: expected 1 fields, saw 2\\nSkipping line 27850: expected 1 fields, saw 3\\nSkipping line 27851: expected 1 fields, saw 3\\nSkipping line 27858: expected 1 fields, saw 2\\nSkipping line 27871: expected 1 fields, saw 2\\nSkipping line 27936: expected 1 fields, saw 3\\nSkipping line 27942: expected 1 fields, saw 2\\nSkipping line 27971: expected 1 fields, saw 2\\nSkipping line 27973: expected 1 fields, saw 2\\nSkipping line 27974: expected 1 fields, saw 7\\nSkipping line 27975: expected 1 fields, saw 4\\nSkipping line 27980: expected 1 fields, saw 2\\nSkipping line 27983: expected 1 fields, saw 3\\nSkipping line 27997: expected 1 fields, saw 2\\nSkipping line 27998: expected 1 fields, saw 2\\nSkipping line 28002: expected 1 fields, saw 4\\nSkipping line 28004: expected 1 fields, saw 3\\nSkipping line 28007: expected 1 fields, saw 5\\nSkipping line 28021: expected 1 fields, saw 2\\nSkipping line 28033: expected 1 fields, saw 2\\nSkipping line 28042: expected 1 fields, saw 4\\nSkipping line 28043: expected 1 fields, saw 2\\nSkipping line 28044: expected 1 fields, saw 2\\nSkipping line 28048: expected 1 fields, saw 2\\nSkipping line 28053: expected 1 fields, saw 3\\nSkipping line 28060: expected 1 fields, saw 4\\nSkipping line 28062: expected 1 fields, saw 3\\nSkipping line 28069: expected 1 fields, saw 2\\nSkipping line 28070: expected 1 fields, saw 2\\nSkipping line 28073: expected 1 fields, saw 2\\nSkipping line 28081: expected 1 fields, saw 3\\nSkipping line 28088: expected 1 fields, saw 3\\nSkipping line 28197: expected 1 fields, saw 2\\nSkipping line 28216: expected 1 fields, saw 4\\nSkipping line 28223: expected 1 fields, saw 2\\nSkipping line 28230: expected 1 fields, saw 5\\nSkipping line 28232: expected 1 fields, saw 3\\nSkipping line 28249: expected 1 fields, saw 2\\nSkipping line 28251: expected 1 fields, saw 7\\nSkipping line 28255: expected 1 fields, saw 2\\nSkipping line 28257: expected 1 fields, saw 2\\nSkipping line 28260: expected 1 fields, saw 3\\nSkipping line 28270: expected 1 fields, saw 4\\nSkipping line 28274: expected 1 fields, saw 2\\nSkipping line 28275: expected 1 fields, saw 2\\nSkipping line 28277: expected 1 fields, saw 2\\nSkipping line 28285: expected 1 fields, saw 2\\nSkipping line 28292: expected 1 fields, saw 2\\nSkipping line 28295: expected 1 fields, saw 2\\nSkipping line 28298: expected 1 fields, saw 2\\nSkipping line 28311: expected 1 fields, saw 2\\nSkipping line 28312: expected 1 fields, saw 2\\nSkipping line 28313: expected 1 fields, saw 2\\nSkipping line 28330: expected 1 fields, saw 2\\nSkipping line 28384: expected 1 fields, saw 3\\nSkipping line 28397: expected 1 fields, saw 2\\nSkipping line 28436: expected 1 fields, saw 3\\nSkipping line 28438: expected 1 fields, saw 2\\nSkipping line 28439: expected 1 fields, saw 2\\nSkipping line 28442: expected 1 fields, saw 3\\nSkipping line 28445: expected 1 fields, saw 3\\nSkipping line 28449: expected 1 fields, saw 3\\nSkipping line 28453: expected 1 fields, saw 2\\nSkipping line 28463: expected 1 fields, saw 4\\nSkipping line 28467: expected 1 fields, saw 2\\nSkipping line 28473: expected 1 fields, saw 6\\nSkipping line 28481: expected 1 fields, saw 3\\nSkipping line 28483: expected 1 fields, saw 3\\nSkipping line 28484: expected 1 fields, saw 2\\nSkipping line 28486: expected 1 fields, saw 2\\nSkipping line 28490: expected 1 fields, saw 2\\nSkipping line 28492: expected 1 fields, saw 2\\nSkipping line 28614: expected 1 fields, saw 2\\nSkipping line 28645: expected 1 fields, saw 2\\nSkipping line 28658: expected 1 fields, saw 2\\nSkipping line 28659: expected 1 fields, saw 2\\nSkipping line 28661: expected 1 fields, saw 2\\nSkipping line 28665: expected 1 fields, saw 2\\nSkipping line 28669: expected 1 fields, saw 2\\nSkipping line 28678: expected 1 fields, saw 2\\nSkipping line 28686: expected 1 fields, saw 3\\nSkipping line 28689: expected 1 fields, saw 2\\nSkipping line 28696: expected 1 fields, saw 2\\nSkipping line 28721: expected 1 fields, saw 2\\nSkipping line 28737: expected 1 fields, saw 3\\nSkipping line 28742: expected 1 fields, saw 2\\nSkipping line 28787: expected 1 fields, saw 3\\nSkipping line 28865: expected 1 fields, saw 3\\nSkipping line 28867: expected 1 fields, saw 2\\nSkipping line 28871: expected 1 fields, saw 2\\nSkipping line 28876: expected 1 fields, saw 2\\nSkipping line 28880: expected 1 fields, saw 3\\nSkipping line 28884: expected 1 fields, saw 4\\nSkipping line 28885: expected 1 fields, saw 4\\nSkipping line 28892: expected 1 fields, saw 2\\nSkipping line 28895: expected 1 fields, saw 2\\nSkipping line 28902: expected 1 fields, saw 3\\nSkipping line 28907: expected 1 fields, saw 2\\nSkipping line 28917: expected 1 fields, saw 2\\nSkipping line 28944: expected 1 fields, saw 3\\nSkipping line 28968: expected 1 fields, saw 2\\nSkipping line 29095: expected 1 fields, saw 2\\nSkipping line 29097: expected 1 fields, saw 2\\nSkipping line 29098: expected 1 fields, saw 2\\nSkipping line 29099: expected 1 fields, saw 2\\nSkipping line 29104: expected 1 fields, saw 5\\nSkipping line 29109: expected 1 fields, saw 2\\nSkipping line 29117: expected 1 fields, saw 2\\nSkipping line 29130: expected 1 fields, saw 2\\nSkipping line 29131: expected 1 fields, saw 2\\nSkipping line 29142: expected 1 fields, saw 2\\nSkipping line 29154: expected 1 fields, saw 3\\nSkipping line 29155: expected 1 fields, saw 2\\nSkipping line 29165: expected 1 fields, saw 2\\nSkipping line 29168: expected 1 fields, saw 3\\nSkipping line 29172: expected 1 fields, saw 2\\nSkipping line 29173: expected 1 fields, saw 4\\nSkipping line 29175: expected 1 fields, saw 2\\nSkipping line 29178: expected 1 fields, saw 2\\nSkipping line 29185: expected 1 fields, saw 2\\nSkipping line 29187: expected 1 fields, saw 2\\nSkipping line 29192: expected 1 fields, saw 2\\nSkipping line 29194: expected 1 fields, saw 4\\nSkipping line 29196: expected 1 fields, saw 7\\nSkipping line 29243: expected 1 fields, saw 2\\nSkipping line 29253: expected 1 fields, saw 2\\nSkipping line 29263: expected 1 fields, saw 3\\nSkipping line 29328: expected 1 fields, saw 2\\nSkipping line 29330: expected 1 fields, saw 2\\nSkipping line 29336: expected 1 fields, saw 2\\nSkipping line 29349: expected 1 fields, saw 2\\nSkipping line 29351: expected 1 fields, saw 3\\nSkipping line 29353: expected 1 fields, saw 3\\nSkipping line 29357: expected 1 fields, saw 2\\nSkipping line 29361: expected 1 fields, saw 6\\nSkipping line 29373: expected 1 fields, saw 7\\nSkipping line 29383: expected 1 fields, saw 2\\nSkipping line 29384: expected 1 fields, saw 4\\nSkipping line 29393: expected 1 fields, saw 2\\nSkipping line 29396: expected 1 fields, saw 2\\nSkipping line 29398: expected 1 fields, saw 2\\nSkipping line 29402: expected 1 fields, saw 3\\nSkipping line 29414: expected 1 fields, saw 2\\nSkipping line 29415: expected 1 fields, saw 2\\nSkipping line 29416: expected 1 fields, saw 2\\nSkipping line 29417: expected 1 fields, saw 4\\nSkipping line 29450: expected 1 fields, saw 2\\nSkipping line 29460: expected 1 fields, saw 3\\nSkipping line 29477: expected 1 fields, saw 3\\nSkipping line 29573: expected 1 fields, saw 3\\nSkipping line 29576: expected 1 fields, saw 4\\nSkipping line 29591: expected 1 fields, saw 2\\nSkipping line 29595: expected 1 fields, saw 2\\nSkipping line 29596: expected 1 fields, saw 2\\nSkipping line 29597: expected 1 fields, saw 3\\nSkipping line 29611: expected 1 fields, saw 2\\nSkipping line 29616: expected 1 fields, saw 3\\nSkipping line 29621: expected 1 fields, saw 2\\nSkipping line 29626: expected 1 fields, saw 3\\nSkipping line 29630: expected 1 fields, saw 4\\nSkipping line 29633: expected 1 fields, saw 2\\nSkipping line 29642: expected 1 fields, saw 2\\nSkipping line 29654: expected 1 fields, saw 2\\nSkipping line 29655: expected 1 fields, saw 4\\nSkipping line 29660: expected 1 fields, saw 3\\nSkipping line 29661: expected 1 fields, saw 2\\nSkipping line 29676: expected 1 fields, saw 2\\nSkipping line 29677: expected 1 fields, saw 2\\nSkipping line 29772: expected 1 fields, saw 2\\nSkipping line 29781: expected 1 fields, saw 2\\nSkipping line 29791: expected 1 fields, saw 2\\nSkipping line 29794: expected 1 fields, saw 2\\nSkipping line 29798: expected 1 fields, saw 3\\nSkipping line 29812: expected 1 fields, saw 7\\nSkipping line 29813: expected 1 fields, saw 2\\nSkipping line 29821: expected 1 fields, saw 4\\nSkipping line 29824: expected 1 fields, saw 2\\nSkipping line 29833: expected 1 fields, saw 5\\nSkipping line 29836: expected 1 fields, saw 2\\nSkipping line 29858: expected 1 fields, saw 3\\nSkipping line 29868: expected 1 fields, saw 3\\nSkipping line 29872: expected 1 fields, saw 2\\nSkipping line 29879: expected 1 fields, saw 3\\nSkipping line 29887: expected 1 fields, saw 2\\nSkipping line 29891: expected 1 fields, saw 2\\nSkipping line 29952: expected 1 fields, saw 3\\nSkipping line 29986: expected 1 fields, saw 2\\nSkipping line 30004: expected 1 fields, saw 2\\nSkipping line 30036: expected 1 fields, saw 2\\nSkipping line 30054: expected 1 fields, saw 3\\nSkipping line 30078: expected 1 fields, saw 3\\nSkipping line 30081: expected 1 fields, saw 5\\nSkipping line 30083: expected 1 fields, saw 2\\nSkipping line 30085: expected 1 fields, saw 4\\nSkipping line 30120: expected 1 fields, saw 2\\nSkipping line 30132: expected 1 fields, saw 2\\nSkipping line 30247: expected 1 fields, saw 2\\nSkipping line 30666: expected 1 fields, saw 2\\nSkipping line 30673: expected 1 fields, saw 2\\nSkipping line 30941: expected 1 fields, saw 2\\nSkipping line 31010: expected 1 fields, saw 2\\nSkipping line 31476: expected 1 fields, saw 2\\nSkipping line 31477: expected 1 fields, saw 2\\nSkipping line 31478: expected 1 fields, saw 2\\nSkipping line 31575: expected 1 fields, saw 2\\nSkipping line 31576: expected 1 fields, saw 2\\nSkipping line 31577: expected 1 fields, saw 2\\nSkipping line 31580: expected 1 fields, saw 2\\nSkipping line 31581: expected 1 fields, saw 2\\nSkipping line 31592: expected 1 fields, saw 2\\nSkipping line 31602: expected 1 fields, saw 2\\nSkipping line 31603: expected 1 fields, saw 2\\nSkipping line 31604: expected 1 fields, saw 2\\nSkipping line 31624: expected 1 fields, saw 2\\nSkipping line 31625: expected 1 fields, saw 2\\nSkipping line 31626: expected 1 fields, saw 2\\nSkipping line 31627: expected 1 fields, saw 2\\nSkipping line 31628: expected 1 fields, saw 2\\nSkipping line 31629: expected 1 fields, saw 2\\nSkipping line 31641: expected 1 fields, saw 3\\nSkipping line 31652: expected 1 fields, saw 2\\nSkipping line 31653: expected 1 fields, saw 2\\nSkipping line 31739: expected 1 fields, saw 2\\nSkipping line 31835: expected 1 fields, saw 2\\nSkipping line 31846: expected 1 fields, saw 2\\nSkipping line 32365: expected 1 fields, saw 2\\nSkipping line 32368: expected 1 fields, saw 2\\nSkipping line 32437: expected 1 fields, saw 3\\nSkipping line 32453: expected 1 fields, saw 2\\nSkipping line 32456: expected 1 fields, saw 3\\nSkipping line 32477: expected 1 fields, saw 2\\nSkipping line 32491: expected 1 fields, saw 2\\nSkipping line 32532: expected 1 fields, saw 2\\nSkipping line 32537: expected 1 fields, saw 2\\nSkipping line 32540: expected 1 fields, saw 2\\nSkipping line 32598: expected 1 fields, saw 3\\nSkipping line 32614: expected 1 fields, saw 3\\nSkipping line 32616: expected 1 fields, saw 3\\nSkipping line 32617: expected 1 fields, saw 2\\nSkipping line 32658: expected 1 fields, saw 2\\nSkipping line 32681: expected 1 fields, saw 2\\nSkipping line 32707: expected 1 fields, saw 2\\nSkipping line 32729: expected 1 fields, saw 2\\nSkipping line 32832: expected 1 fields, saw 3\\nSkipping line 32861: expected 1 fields, saw 2\\nSkipping line 32893: expected 1 fields, saw 3\\nSkipping line 32931: expected 1 fields, saw 2\\nSkipping line 32933: expected 1 fields, saw 3\\nSkipping line 32945: expected 1 fields, saw 2\\nSkipping line 32976: expected 1 fields, saw 2\\nSkipping line 33010: expected 1 fields, saw 3\\nSkipping line 33038: expected 1 fields, saw 2\\nSkipping line 33083: expected 1 fields, saw 3\\nSkipping line 33105: expected 1 fields, saw 2\\nSkipping line 33119: expected 1 fields, saw 2\\nSkipping line 33132: expected 1 fields, saw 2\\nSkipping line 33149: expected 1 fields, saw 2\\nSkipping line 33170: expected 1 fields, saw 2\\nSkipping line 33173: expected 1 fields, saw 3\\nSkipping line 33177: expected 1 fields, saw 2\\nSkipping line 33183: expected 1 fields, saw 2\\nSkipping line 33200: expected 1 fields, saw 2\\nSkipping line 33260: expected 1 fields, saw 2\\nSkipping line 33297: expected 1 fields, saw 2\\nSkipping line 33307: expected 1 fields, saw 3\\nSkipping line 33319: expected 1 fields, saw 2\\nSkipping line 33341: expected 1 fields, saw 3\\nSkipping line 33372: expected 1 fields, saw 2\\nSkipping line 33383: expected 1 fields, saw 2\\nSkipping line 33403: expected 1 fields, saw 2\\nSkipping line 33411: expected 1 fields, saw 2\\nSkipping line 33443: expected 1 fields, saw 2\\nSkipping line 33514: expected 1 fields, saw 2\\nSkipping line 33521: expected 1 fields, saw 2\\nSkipping line 33581: expected 1 fields, saw 2\\nSkipping line 33597: expected 1 fields, saw 2\\nSkipping line 33635: expected 1 fields, saw 2\\nSkipping line 33642: expected 1 fields, saw 2\\nSkipping line 33663: expected 1 fields, saw 3\\n'\n"
     ]
    }
   ],
   "source": [
    "import pandas as pd\n",
    "\n",
    "df = pd.read_csv('merged_relationship.csv', error_bad_lines=False)\n",
    "#cut -f2 merged_relationship.csv > list1\n",
    "#cut -f4 merged_relationship.csv > list2\n",
    "\n",
    "#text_file1 = open('list1_1000', 'r')\n",
    "text_file1 = open('list1', 'r')\n",
    "terms1 = text_file1.readlines()\n",
    "cleaned_terms = [x.rstrip() for x in terms1]\n",
    "\n",
    "text_file2 = open('list2', 'r')\n",
    "#text_file2 = open('list2_1000', 'r')\n",
    "terms2 = text_file2.readlines()\n",
    "cleaned_terms2 = [x.rstrip() for x in terms2]\n",
    "\n",
    "\n",
    "#print (cleaned_terms2)\n"
   ]
  },
  {
   "cell_type": "markdown",
   "metadata": {},
   "source": [
    "Checking if word tokens from the list are present in wordnet:"
   ]
  },
  {
   "cell_type": "code",
   "execution_count": 43,
   "metadata": {},
   "outputs": [],
   "source": [
    "import nltk\n",
    "#nltk.download(\"wordnet\", \"/home/natalia/medical_texts/nltk_data/\")\n",
    "nltk.data.path.append('./nltk_data/')"
   ]
  },
  {
   "cell_type": "code",
   "execution_count": 44,
   "metadata": {},
   "outputs": [
    {
     "name": "stdout",
     "output_type": "stream",
     "text": [
      "In wordNet:  32348 not in wordnet:  1361\n"
     ]
    }
   ],
   "source": [
    "from nltk.corpus import wordnet as wn\n",
    "wn_lemmas = set(wn.all_lemma_names())\n",
    "count_present = 0\n",
    "count_missing = 0\n",
    "\n",
    "for term in cleaned_terms:\n",
    "    if term in wn_lemmas:\n",
    "#        print (term, \" is in WordNet\")\n",
    "        #syn_sets = [wn.synsets(cleaned_term) for cleaned_term in cleaned_terms]\n",
    "        count_present+=1\n",
    "    else:\n",
    "#        print (term, \" is not in WordNet\")\n",
    "        count_missing+=1\n",
    "\n",
    "        \n",
    "print (\"In wordNet: \", count_present, \"not in wordnet: \", count_missing )"
   ]
  },
  {
   "cell_type": "code",
   "execution_count": 45,
   "metadata": {},
   "outputs": [
    {
     "name": "stdout",
     "output_type": "stream",
     "text": [
      "In wordNet:  32348 not in wordnet:  1361\n"
     ]
    }
   ],
   "source": [
    "\n",
    "lower_present = 0\n",
    "lower_missing = 0\n",
    "lowercased_terms = [x.lower() for x in cleaned_terms]\n",
    "\n",
    "for term in lowercased_terms:\n",
    "    if term in wn_lemmas:\n",
    "#        print (term, \" is in WordNet\")\n",
    "        #syn_sets = [wn.synsets(cleaned_term) for cleaned_term in cleaned_terms]\n",
    "        lower_present+=1\n",
    "    else:\n",
    "#        print (term, \" is not in WordNet\")\n",
    "        lower_missing+=1\n",
    "print (\"In wordNet: \", lower_present, \"not in wordnet: \", lower_missing )    \n"
   ]
  },
  {
   "cell_type": "markdown",
   "metadata": {},
   "source": [
    "Many are missing, we need to lemmatize words in the list, mostly a copy-paste from [here](https://rustyonrampage.github.io/text-mining/2017/11/23/stemming-and-lemmatization-with-python-and-nltk.html)"
   ]
  },
  {
   "cell_type": "code",
   "execution_count": 46,
   "metadata": {},
   "outputs": [],
   "source": [
    "from nltk.corpus import wordnet as wn\n",
    "from nltk.stem.wordnet import WordNetLemmatizer\n",
    "from collections import Counter \n",
    "\n",
    "wnl = WordNetLemmatizer()\n",
    "\n",
    "lemmatized_terms = []\n",
    "\n",
    "def get_pos( word ):\n",
    "    w_synsets = wn.synsets(word)\n",
    "\n",
    "    pos_counts = Counter()\n",
    "    pos_counts[\"n\"] = len(  [ item for item in w_synsets if item.pos()==\"n\"]  )\n",
    "    pos_counts[\"v\"] = len(  [ item for item in w_synsets if item.pos()==\"v\"]  )\n",
    "    pos_counts[\"a\"] = len(  [ item for item in w_synsets if item.pos()==\"a\"]  )\n",
    "    pos_counts[\"r\"] = len(  [ item for item in w_synsets if item.pos()==\"r\"]  )\n",
    "    \n",
    "    most_common_pos_list = pos_counts.most_common(3)\n",
    "    return most_common_pos_list[0][0] # first indexer for getting the top POS from l\n",
    "\n",
    "for word in lowercased_terms:\n",
    "    word.lower()\n",
    "    lemma = wnl.lemmatize( word, get_pos(word) )\n",
    "    lemmatized_terms.append(lemma)\n",
    " \n",
    "\n"
   ]
  },
  {
   "cell_type": "markdown",
   "metadata": {},
   "source": [
    "Now let us search in a lemmatized version of the list (with the help of [this](https://stackoverflow.com/questions/48805672/printing-synsets-of-words-in-a-list-in-python) ):"
   ]
  },
  {
   "cell_type": "markdown",
   "metadata": {},
   "source": [
    "https://stackoverflow.com/questions/45973596/measuring-similarity-between-different-length-synsets-returns-a-nan"
   ]
  },
  {
   "cell_type": "code",
   "execution_count": null,
   "metadata": {
    "scrolled": false
   },
   "outputs": [
    {
     "name": "stdout",
     "output_type": "stream",
     "text": [
      "CAusal agent found!!! for word_term:  donor\n",
      "CAusal agent found!!! for word_term:  donor\n",
      "CAusal agent found!!! for word_term:  dosage\n",
      "CAusal agent found!!! for word_term:  dosage\n",
      "CAusal agent found!!! for word_term:  dosage\n",
      "CAusal agent found!!! for word_term:  pi\n",
      "CAusal agent found!!! for word_term:  pi\n",
      "CAusal agent found!!! for word_term:  pi\n",
      "CAusal agent found!!! for word_term:  cigarette\n",
      "CAusal agent found!!! for word_term:  cigarette\n",
      "CAusal agent found!!! for word_term:  cigarette\n",
      "CAusal agent found!!! for word_term:  cigarette\n",
      "CAusal agent found!!! for word_term:  cigarette\n",
      "CAusal agent found!!! for word_term:  cigarette\n",
      "CAusal agent found!!! for word_term:  cigarette\n",
      "CAusal agent found!!! for word_term:  cigarette\n",
      "CAusal agent found!!! for word_term:  cigarette\n",
      "CAusal agent found!!! for word_term:  cigarette\n",
      "CAusal agent found!!! for word_term:  cigarette\n",
      "CAusal agent found!!! for word_term:  cigarette\n",
      "CAusal agent found!!! for word_term:  cigarette\n",
      "CAusal agent found!!! for word_term:  cigarette\n",
      "CAusal agent found!!! for word_term:  cigarette\n",
      "CAusal agent found!!! for word_term:  cigarette\n",
      "CAusal agent found!!! for word_term:  cigarette\n",
      "CAusal agent found!!! for word_term:  cigarette\n",
      "CAusal agent found!!! for word_term:  cigarette\n",
      "CAusal agent found!!! for word_term:  cigarette\n",
      "CAusal agent found!!! for word_term:  cigarette\n",
      "CAusal agent found!!! for word_term:  cigarette\n",
      "CAusal agent found!!! for word_term:  cigarette\n",
      "CAusal agent found!!! for word_term:  cigarette\n",
      "CAusal agent found!!! for word_term:  cigarette\n",
      "CAusal agent found!!! for word_term:  cigarette\n",
      "CAusal agent found!!! for word_term:  cigarette\n",
      "CAusal agent found!!! for word_term:  cigarette\n",
      "CAusal agent found!!! for word_term:  insulin\n",
      "CAusal agent found!!! for word_term:  insulin\n",
      "CAusal agent found!!! for word_term:  insulin\n",
      "CAusal agent found!!! for word_term:  insulin\n",
      "CAusal agent found!!! for word_term:  insulin\n",
      "CAusal agent found!!! for word_term:  insulin\n",
      "CAusal agent found!!! for word_term:  insulin\n",
      "CAusal agent found!!! for word_term:  insulin\n",
      "CAusal agent found!!! for word_term:  insulin\n",
      "CAusal agent found!!! for word_term:  insulin\n",
      "CAusal agent found!!! for word_term:  insulin\n",
      "CAusal agent found!!! for word_term:  insulin\n",
      "CAusal agent found!!! for word_term:  insulin\n",
      "CAusal agent found!!! for word_term:  insulin\n",
      "CAusal agent found!!! for word_term:  insulin\n",
      "CAusal agent found!!! for word_term:  insulin\n",
      "CAusal agent found!!! for word_term:  insulin\n",
      "CAusal agent found!!! for word_term:  insulin\n",
      "CAusal agent found!!! for word_term:  insulin\n",
      "CAusal agent found!!! for word_term:  insulin\n",
      "CAusal agent found!!! for word_term:  insulin\n",
      "CAusal agent found!!! for word_term:  insulin\n",
      "CAusal agent found!!! for word_term:  insulin\n",
      "CAusal agent found!!! for word_term:  insulin\n",
      "CAusal agent found!!! for word_term:  insulin\n",
      "CAusal agent found!!! for word_term:  insulin\n",
      "CAusal agent found!!! for word_term:  insulin\n",
      "CAusal agent found!!! for word_term:  insulin\n",
      "CAusal agent found!!! for word_term:  insulin\n",
      "CAusal agent found!!! for word_term:  insulin\n",
      "CAusal agent found!!! for word_term:  insulin\n",
      "CAusal agent found!!! for word_term:  insulin\n",
      "CAusal agent found!!! for word_term:  insulin\n",
      "CAusal agent found!!! for word_term:  insulin\n",
      "CAusal agent found!!! for word_term:  insulin\n",
      "CAusal agent found!!! for word_term:  insulin\n",
      "CAusal agent found!!! for word_term:  insulin\n",
      "CAusal agent found!!! for word_term:  insulin\n",
      "CAusal agent found!!! for word_term:  insulin\n",
      "CAusal agent found!!! for word_term:  insulin\n",
      "CAusal agent found!!! for word_term:  insulin\n",
      "CAusal agent found!!! for word_term:  insulin\n",
      "CAusal agent found!!! for word_term:  insulin\n",
      "CAusal agent found!!! for word_term:  insulin\n",
      "CAusal agent found!!! for word_term:  insulin\n",
      "CAusal agent found!!! for word_term:  insulin\n",
      "CAusal agent found!!! for word_term:  insulin\n",
      "CAusal agent found!!! for word_term:  insulin\n",
      "CAusal agent found!!! for word_term:  insulin\n",
      "CAusal agent found!!! for word_term:  insulin\n",
      "CAusal agent found!!! for word_term:  insulin\n",
      "CAusal agent found!!! for word_term:  insulin\n",
      "CAusal agent found!!! for word_term:  insulin\n",
      "CAusal agent found!!! for word_term:  insulin\n",
      "CAusal agent found!!! for word_term:  insulin\n",
      "CAusal agent found!!! for word_term:  insulin\n",
      "CAusal agent found!!! for word_term:  insulin\n",
      "CAusal agent found!!! for word_term:  insulin\n",
      "CAusal agent found!!! for word_term:  insulin\n",
      "CAusal agent found!!! for word_term:  insulin\n",
      "CAusal agent found!!! for word_term:  insulin\n",
      "CAusal agent found!!! for word_term:  insulin\n",
      "CAusal agent found!!! for word_term:  insulin\n",
      "CAusal agent found!!! for word_term:  insulin\n",
      "CAusal agent found!!! for word_term:  insulin\n",
      "CAusal agent found!!! for word_term:  insulin\n",
      "CAusal agent found!!! for word_term:  insulin\n",
      "CAusal agent found!!! for word_term:  insulin\n",
      "CAusal agent found!!! for word_term:  insulin\n",
      "CAusal agent found!!! for word_term:  insulin\n",
      "CAusal agent found!!! for word_term:  insulin\n",
      "CAusal agent found!!! for word_term:  insulin\n",
      "CAusal agent found!!! for word_term:  insulin\n",
      "CAusal agent found!!! for word_term:  insulin\n",
      "CAusal agent found!!! for word_term:  insulin\n",
      "CAusal agent found!!! for word_term:  insulin\n",
      "CAusal agent found!!! for word_term:  insulin\n",
      "CAusal agent found!!! for word_term:  insulin\n",
      "CAusal agent found!!! for word_term:  insulin\n",
      "CAusal agent found!!! for word_term:  insulin\n",
      "CAusal agent found!!! for word_term:  insulin\n",
      "CAusal agent found!!! for word_term:  insulin\n",
      "CAusal agent found!!! for word_term:  insulin\n",
      "CAusal agent found!!! for word_term:  insulin\n",
      "CAusal agent found!!! for word_term:  insulin\n",
      "CAusal agent found!!! for word_term:  insulin\n",
      "CAusal agent found!!! for word_term:  insulin\n",
      "CAusal agent found!!! for word_term:  insulin\n",
      "CAusal agent found!!! for word_term:  insulin\n",
      "CAusal agent found!!! for word_term:  insulin\n",
      "CAusal agent found!!! for word_term:  insulin\n",
      "CAusal agent found!!! for word_term:  insulin\n",
      "CAusal agent found!!! for word_term:  insulin\n"
     ]
    }
   ],
   "source": [
    "wn_lemmas = set(wn.all_lemma_names())\n",
    "count_present = 0\n",
    "count_missing = 0\n",
    "\n",
    "def get_synsets(word_term):\n",
    "    synsets = []\n",
    "    definitions = []\n",
    "    #hypernyms = []\n",
    "    #hyponyms = []\n",
    "    \n",
    "    syns = wn.synsets(word_term)\n",
    "    word = syns[0].lemmas()[0].name()\n",
    "    definition = syns[0].definition()\n",
    "    examples = syns[0].examples()\n",
    "    synonyms = []\n",
    "    antonyms = []\n",
    "    \n",
    "    hypo = lambda s: s.hyponyms()\n",
    "    hyper = lambda s: s.hypernyms()\n",
    "    \n",
    "    \n",
    "    \n",
    "    for syn in wn.synsets(word_term):\n",
    "        hyponyms = list(syn.closure(hypo))\n",
    "        hypernyms = list(syn.closure(hyper))\n",
    "        \n",
    "        \n",
    "    for lemma in hypernyms:\n",
    "        #print (\"Lemma_name in hypernyms\", lemma.name())\n",
    "        name, pos, sid = lemma.name().split('.')\n",
    "        #print (\"Name: \", name)\n",
    "        if name == 'causal_agent':\n",
    "            print (\"CAusal agent found!!! for word_term: \", word_term )\n",
    "        \n",
    "        for l in syn.lemmas():     \n",
    "            synonyms.append(l.name())\n",
    "            if l.antonyms():\n",
    "                antonyms.append(l.antonyms()[0].name())\n",
    "    \n",
    "    \n",
    "    return definition, examples, set(synonyms), set(antonyms), hyponyms, hypernyms\n",
    "\n",
    "for term in lemmatized_terms:\n",
    "    if term in wn_lemmas:\n",
    "        #print (\"============\", term, \"==========\")\n",
    "        #syn_sets = [wn.synsets(cleaned_term) for cleaned_term in cleaned_terms]\n",
    "        count_present+=1        \n",
    "        defs, examples, set_synonyms, set_antonyms, hyponyms, hypernyms = get_synsets(term)\n",
    "       \n",
    "        #print (\"Synonyms: \", set_synonyms )\n",
    "        #print (\"Hypernyms: \", hypernyms)\n",
    "        \n",
    "        \n",
    "    else:\n",
    "        #print (term, \" is not in WordNet\")\n",
    "        count_missing+=1\n",
    "\n",
    "\n",
    "        \n",
    "print (\"Lemmatized version is in wordNet: \", count_present, \"Lemmatized version is still not in wordnet: \", count_missing )"
   ]
  },
  {
   "cell_type": "code",
   "execution_count": null,
   "metadata": {},
   "outputs": [],
   "source": []
  },
  {
   "cell_type": "markdown",
   "metadata": {},
   "source": [
    "As for hyponyms and hypernyms, we have to include Synset objects, not just words, see discussion here: \n",
    "https://stackoverflow.com/questions/45388056/how-to-remove-synset-and-pos-tag-numbers-on-hypernyms-and-hyponyms\n",
    "Manual selection of the domain hyponyms/hypernym is thus needed.\n",
    "Other links: https://stackoverflow.com/questions/13068386/causal-sentences-extraction-using-nltk-python  (causal phrases list)"
   ]
  },
  {
   "cell_type": "code",
   "execution_count": null,
   "metadata": {},
   "outputs": [],
   "source": []
  },
  {
   "cell_type": "code",
   "execution_count": null,
   "metadata": {},
   "outputs": [],
   "source": []
  },
  {
   "cell_type": "code",
   "execution_count": null,
   "metadata": {},
   "outputs": [],
   "source": []
  },
  {
   "cell_type": "code",
   "execution_count": null,
   "metadata": {},
   "outputs": [],
   "source": []
  }
 ],
 "metadata": {
  "kernelspec": {
   "display_name": "Python 3",
   "language": "python",
   "name": "python3"
  },
  "language_info": {
   "codemirror_mode": {
    "name": "ipython",
    "version": 3
   },
   "file_extension": ".py",
   "mimetype": "text/x-python",
   "name": "python",
   "nbconvert_exporter": "python",
   "pygments_lexer": "ipython3",
   "version": "3.6.5"
  }
 },
 "nbformat": 4,
 "nbformat_minor": 2
}
