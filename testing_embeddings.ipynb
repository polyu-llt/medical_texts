{
 "cells": [
  {
   "cell_type": "code",
   "execution_count": 3,
   "metadata": {},
   "outputs": [],
   "source": [
    "#testing embeddings model trained on PLOS ONE medical texts\n",
    "\n",
    "import gensim \n",
    "from gensim.utils import tokenize\n",
    "from gensim import utils\n",
    "from gensim.models.doc2vec import *\n",
    "\n",
    "model = Doc2Vec.load(\"plosone_doc2vec.vec\")\n",
    "\n",
    "\n"
   ]
  },
  {
   "cell_type": "code",
   "execution_count": 13,
   "metadata": {},
   "outputs": [
    {
     "name": "stderr",
     "output_type": "stream",
     "text": [
      "/home/qt402/.local/lib/python3.5/site-packages/ipykernel_launcher.py:1: DeprecationWarning: Call to deprecated `most_similar` (Method will be removed in 4.0.0, use self.wv.most_similar() instead).\n",
      "  \"\"\"Entry point for launching an IPython kernel.\n"
     ]
    },
    {
     "data": {
      "text/plain": [
       "[('cancer.', 0.7395830154418945),\n",
       " ('cancer,', 0.7288644909858704),\n",
       " ('cancers', 0.6978256702423096),\n",
       " ('PCa', 0.6717635989189148),\n",
       " ('BC', 0.6107715368270874),\n",
       " ('melanoma', 0.60551518201828),\n",
       " ('cancers,', 0.5816134214401245),\n",
       " ('neoplasms)', 0.5802145004272461),\n",
       " ('overactive', 0.5701007843017578),\n",
       " ('disease', 0.5657917261123657)]"
      ]
     },
     "execution_count": 13,
     "metadata": {},
     "output_type": "execute_result"
    }
   ],
   "source": [
    "model.most_similar('cancer')"
   ]
  },
  {
   "cell_type": "code",
   "execution_count": 15,
   "metadata": {},
   "outputs": [
    {
     "name": "stderr",
     "output_type": "stream",
     "text": [
      "/home/qt402/.local/lib/python3.5/site-packages/ipykernel_launcher.py:1: DeprecationWarning: Call to deprecated `most_similar` (Method will be removed in 4.0.0, use self.wv.most_similar() instead).\n",
      "  \"\"\"Entry point for launching an IPython kernel.\n"
     ]
    },
    {
     "data": {
      "text/plain": [
       "[('infection,', 0.6018158197402954),\n",
       " ('respiratory', 0.5863821506500244),\n",
       " ('tuberculosis', 0.5735304355621338),\n",
       " ('infections', 0.5680938363075256),\n",
       " ('periductal', 0.5640875697135925),\n",
       " ('infection', 0.557461142539978),\n",
       " ('hemorrhage', 0.5553864240646362),\n",
       " ('hemivagina', 0.5526678562164307),\n",
       " ('(GTI).', 0.5525451898574829),\n",
       " ('fetus,', 0.5506067276000977)]"
      ]
     },
     "execution_count": 15,
     "metadata": {},
     "output_type": "execute_result"
    }
   ],
   "source": [
    "model.most_similar(positive=['virus', 'fever'], negative=['cancer'])"
   ]
  },
  {
   "cell_type": "code",
   "execution_count": 6,
   "metadata": {},
   "outputs": [
    {
     "name": "stderr",
     "output_type": "stream",
     "text": [
      "/home/qt402/.local/lib/python3.5/site-packages/ipykernel_launcher.py:1: DeprecationWarning: Call to deprecated `most_similar` (Method will be removed in 4.0.0, use self.wv.most_similar() instead).\n",
      "  \"\"\"Entry point for launching an IPython kernel.\n"
     ]
    },
    {
     "data": {
      "text/plain": [
       "[('prostate', 0.6743712425231934),\n",
       " ('cancer.', 0.6500186324119568),\n",
       " ('cancer,', 0.620056688785553),\n",
       " ('quality-specific', 0.61820387840271),\n",
       " ('endometrial', 0.6146716475486755),\n",
       " ('118).', 0.6074773073196411),\n",
       " ('cancers', 0.5930484533309937),\n",
       " ('colorectal', 0.5908399820327759),\n",
       " ('Jade', 0.5904192328453064),\n",
       " ('melanoma', 0.5845313668251038)]"
      ]
     },
     "execution_count": 6,
     "metadata": {},
     "output_type": "execute_result"
    }
   ],
   "source": [
    "model.most_similar(positive=['cancer', 'breast'], negative=['man'])"
   ]
  },
  {
   "cell_type": "code",
   "execution_count": 11,
   "metadata": {},
   "outputs": [
    {
     "name": "stderr",
     "output_type": "stream",
     "text": [
      "/home/qt402/.local/lib/python3.5/site-packages/ipykernel_launcher.py:1: DeprecationWarning: Call to deprecated `most_similar` (Method will be removed in 4.0.0, use self.wv.most_similar() instead).\n",
      "  \"\"\"Entry point for launching an IPython kernel.\n"
     ]
    },
    {
     "data": {
      "text/plain": [
       "[('PSE', 0.6630923748016357),\n",
       " ('epilepsy', 0.650053858757019),\n",
       " ('OHVIRA', 0.6434404253959656),\n",
       " ('overt', 0.6408283710479736),\n",
       " ('HSJ', 0.6401140689849854),\n",
       " ('STI', 0.6380815505981445),\n",
       " ('early-onset', 0.6310299634933472),\n",
       " ('nephrolithiasis', 0.6246498823165894),\n",
       " ('intractable', 0.6143154501914978),\n",
       " ('suspected', 0.6088927984237671)]"
      ]
     },
     "execution_count": 11,
     "metadata": {},
     "output_type": "execute_result"
    }
   ],
   "source": [
    "model.most_similar(positive=['infertility', 'man'], negative=['woman'])"
   ]
  },
  {
   "cell_type": "code",
   "execution_count": 12,
   "metadata": {},
   "outputs": [
    {
     "name": "stderr",
     "output_type": "stream",
     "text": [
      "/home/qt402/.local/lib/python3.5/site-packages/ipykernel_launcher.py:1: DeprecationWarning: Call to deprecated `most_similar` (Method will be removed in 4.0.0, use self.wv.most_similar() instead).\n",
      "  \"\"\"Entry point for launching an IPython kernel.\n"
     ]
    },
    {
     "data": {
      "text/plain": [
       "[('vomiting', 0.6896123290061951),\n",
       " ('(64.9%)', 0.6805307865142822),\n",
       " ('episode,', 0.6739075183868408),\n",
       " ('Radical', 0.6618324518203735),\n",
       " ('vs.psych', 0.6609381437301636),\n",
       " ('(0.32;', 0.6578726172447205),\n",
       " ('-5.80–-1.95', 0.6570995450019836),\n",
       " ('1,755', 0.6542597413063049),\n",
       " ('labour.', 0.6477046012878418),\n",
       " ('interictal', 0.6474461555480957)]"
      ]
     },
     "execution_count": 12,
     "metadata": {},
     "output_type": "execute_result"
    }
   ],
   "source": [
    "model.most_similar(positive=['menstruation', 'man'], negative=['woman'])"
   ]
  },
  {
   "cell_type": "code",
   "execution_count": null,
   "metadata": {},
   "outputs": [],
   "source": []
  }
 ],
 "metadata": {
  "kernelspec": {
   "display_name": "Python 3",
   "language": "python",
   "name": "python3"
  },
  "language_info": {
   "codemirror_mode": {
    "name": "ipython",
    "version": 3
   },
   "file_extension": ".py",
   "mimetype": "text/x-python",
   "name": "python",
   "nbconvert_exporter": "python",
   "pygments_lexer": "ipython3",
   "version": "3.5.2"
  }
 },
 "nbformat": 4,
 "nbformat_minor": 2
}
